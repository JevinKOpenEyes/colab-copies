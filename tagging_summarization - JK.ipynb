{
  "nbformat": 4,
  "nbformat_minor": 0,
  "metadata": {
    "colab": {
      "provenance": [],
      "machine_shape": "hm",
      "authorship_tag": "ABX9TyNjcF59M8PrFbiXEvYLH+iJ",
      "include_colab_link": true
    },
    "kernelspec": {
      "name": "python3",
      "display_name": "Python 3"
    },
    "language_info": {
      "name": "python"
    }
  },
  "cells": [
    {
      "cell_type": "markdown",
      "metadata": {
        "id": "view-in-github",
        "colab_type": "text"
      },
      "source": [
        "<a href=\"https://colab.research.google.com/github/JevinKOpenEyes/colab-copies/blob/main/tagging_summarization%20-%20JK.ipynb\" target=\"_parent\"><img src=\"https://colab.research.google.com/assets/colab-badge.svg\" alt=\"Open In Colab\"/></a>"
      ]
    },
    {
      "cell_type": "code",
      "execution_count": null,
      "metadata": {
        "id": "0OvDLFR7x-SN",
        "colab": {
          "base_uri": "https://localhost:8080/"
        },
        "outputId": "1b6354a0-d235-4208-f86e-6e2eb63e62db"
      },
      "outputs": [
        {
          "output_type": "stream",
          "name": "stdout",
          "text": [
            "  Preparing metadata (setup.py) ... \u001b[?25l\u001b[?25hdone\n",
            "\u001b[2K   \u001b[90m━━━━━━━━━━━━━━━━━━━━━━━━━━━━━━━━━━━━━━━━\u001b[0m \u001b[32m23.5/23.5 MB\u001b[0m \u001b[31m93.8 MB/s\u001b[0m eta \u001b[36m0:00:00\u001b[0m\n",
            "\u001b[2K   \u001b[90m━━━━━━━━━━━━━━━━━━━━━━━━━━━━━━━━━━━━━━━━\u001b[0m \u001b[32m85.3/85.3 MB\u001b[0m \u001b[31m29.5 MB/s\u001b[0m eta \u001b[36m0:00:00\u001b[0m\n",
            "\u001b[2K   \u001b[90m━━━━━━━━━━━━━━━━━━━━━━━━━━━━━━━━━━━━━━━━\u001b[0m \u001b[32m296.4/296.4 kB\u001b[0m \u001b[31m15.6 MB/s\u001b[0m eta \u001b[36m0:00:00\u001b[0m\n",
            "\u001b[2K   \u001b[90m━━━━━━━━━━━━━━━━━━━━━━━━━━━━━━━━━━━━━━━━\u001b[0m \u001b[32m547.8/547.8 kB\u001b[0m \u001b[31m309.9 kB/s\u001b[0m eta \u001b[36m0:00:00\u001b[0m\n",
            "\u001b[2K   \u001b[90m━━━━━━━━━━━━━━━━━━━━━━━━━━━━━━━━━━━━━━━━\u001b[0m \u001b[32m64.9/64.9 kB\u001b[0m \u001b[31m4.5 MB/s\u001b[0m eta \u001b[36m0:00:00\u001b[0m\n",
            "\u001b[2K   \u001b[90m━━━━━━━━━━━━━━━━━━━━━━━━━━━━━━━━━━━━━━━━\u001b[0m \u001b[32m13.2/13.2 MB\u001b[0m \u001b[31m112.3 MB/s\u001b[0m eta \u001b[36m0:00:00\u001b[0m\n",
            "\u001b[2K   \u001b[90m━━━━━━━━━━━━━━━━━━━━━━━━━━━━━━━━━━━━━━━━\u001b[0m \u001b[32m116.3/116.3 kB\u001b[0m \u001b[31m8.5 MB/s\u001b[0m eta \u001b[36m0:00:00\u001b[0m\n",
            "\u001b[2K   \u001b[90m━━━━━━━━━━━━━━━━━━━━━━━━━━━━━━━━━━━━━━━━\u001b[0m \u001b[32m316.1/316.1 kB\u001b[0m \u001b[31m23.3 MB/s\u001b[0m eta \u001b[36m0:00:00\u001b[0m\n",
            "\u001b[2K   \u001b[90m━━━━━━━━━━━━━━━━━━━━━━━━━━━━━━━━━━━━━━━━\u001b[0m \u001b[32m39.9/39.9 MB\u001b[0m \u001b[31m58.9 MB/s\u001b[0m eta \u001b[36m0:00:00\u001b[0m\n",
            "\u001b[2K   \u001b[90m━━━━━━━━━━━━━━━━━━━━━━━━━━━━━━━━━━━━━━━━\u001b[0m \u001b[32m134.8/134.8 kB\u001b[0m \u001b[31m9.5 MB/s\u001b[0m eta \u001b[36m0:00:00\u001b[0m\n",
            "\u001b[2K   \u001b[90m━━━━━━━━━━━━━━━━━━━━━━━━━━━━━━━━━━━━━━━━\u001b[0m \u001b[32m194.1/194.1 kB\u001b[0m \u001b[31m13.6 MB/s\u001b[0m eta \u001b[36m0:00:00\u001b[0m\n",
            "\u001b[2K   \u001b[90m━━━━━━━━━━━━━━━━━━━━━━━━━━━━━━━━━━━━━━━━\u001b[0m \u001b[32m19.7/19.7 MB\u001b[0m \u001b[31m103.5 MB/s\u001b[0m eta \u001b[36m0:00:00\u001b[0m\n",
            "\u001b[?25h  Building wheel for tika (setup.py) ... \u001b[?25l\u001b[?25hdone\n",
            "\u001b[31mERROR: pip's dependency resolver does not currently take into account all the packages that are installed. This behaviour is the source of the following dependency conflicts.\n",
            "cudf-cu12 24.4.1 requires pyarrow<15.0.0a0,>=14.0.1, but you have pyarrow 17.0.0 which is incompatible.\n",
            "gcsfs 2024.6.1 requires fsspec==2024.6.1, but you have fsspec 2024.5.0 which is incompatible.\n",
            "google-colab 1.0.0 requires requests==2.31.0, but you have requests 2.32.3 which is incompatible.\n",
            "ibis-framework 8.0.0 requires pyarrow<16,>=2, but you have pyarrow 17.0.0 which is incompatible.\u001b[0m\u001b[31m\n",
            "\u001b[0m"
          ]
        }
      ],
      "source": [
        "!pip install -q auto-gptq transformers tika aspose-words accelerate"
      ]
    },
    {
      "cell_type": "code",
      "source": [
        "import requests\n",
        "from tika import parser\n",
        "from bs4 import BeautifulSoup\n",
        "from io import StringIO"
      ],
      "metadata": {
        "id": "T49gElQAyD5J"
      },
      "execution_count": null,
      "outputs": []
    },
    {
      "cell_type": "code",
      "source": [
        "hashcodes = {\n",
        "    \"S9549\": \"66b07cb4c3a27f936a05d5b2\",\n",
        "    \"S5353\": \"66b081dd42e463522f0e9ab2\",\n",
        "}"
      ],
      "metadata": {
        "id": "0dr40OiKntME"
      },
      "execution_count": null,
      "outputs": []
    },
    {
      "cell_type": "code",
      "source": [
        "# This line gets ssf6.pdf files metadata from the google drive URI\n",
        "request=requests.get(\"https://generate-questions.devbyopeneyes.com/api/getFileData/66b09bdc554eef4872083e82\")\n",
        "resp = request.json()\n",
        "\n",
        "# Getting file metadata\n",
        "file_path = (resp[\"data\"][\"file_path\"])\n",
        "file_name = (resp[\"data\"][\"file_name\"])\n",
        "_id = (resp[\"data\"][\"_id\"])\n",
        "file_type = (resp[\"data\"][\"file_type\"])\n",
        "user_file_name = (resp[\"data\"][\"file_name\"])\n",
        "type_of_question = (resp[\"data\"][\"type_of_question\"])"
      ],
      "metadata": {
        "id": "qxGo9d3dyFuW"
      },
      "execution_count": null,
      "outputs": []
    },
    {
      "cell_type": "code",
      "source": [
        "if file_type == \"pdf\" or file_type == \"txt\":\n",
        "    Text_pdf = []\n",
        "    # Read PDF file\n",
        "    data = parser.from_file(file_path, xmlContent=True)\n",
        "    xhtml_data = BeautifulSoup(data['content'])\n",
        "    for i, content in enumerate(xhtml_data.find_all('div', attrs={'class': 'page'})):\n",
        "        # Parse PDF data using TIKA (xml/html)\n",
        "        # It's faster and safer to create a new buffer than truncating it\n",
        "        # https://stackoverflow.com/questions/4330812/how-do-i-clear-a-stringio-object\n",
        "        _buffer = StringIO()\n",
        "        _buffer.write(str(content))\n",
        "        parsed_content = parser.from_buffer(_buffer.getvalue())\n",
        "\n",
        "        # Add pages\n",
        "        if parsed_content['content']!=None:\n",
        "            text = parsed_content['content'].strip()\n",
        "            Text_pdf.append(text)"
      ],
      "metadata": {
        "colab": {
          "base_uri": "https://localhost:8080/"
        },
        "id": "I3aAjev_yIaD",
        "outputId": "beb6fbdd-680b-40fc-e380-495c340c69d5"
      },
      "execution_count": null,
      "outputs": [
        {
          "output_type": "stream",
          "name": "stderr",
          "text": [
            "2024-08-05 10:25:12,376 [MainThread  ] [INFO ]  Retrieving https://drive.google.com/u/0/uc?id=1jK_1pZAwHydMN4tkbJbisuK6H44AaOEY&export=download to /tmp/u-0-uc.\n",
            "INFO:tika.tika:Retrieving https://drive.google.com/u/0/uc?id=1jK_1pZAwHydMN4tkbJbisuK6H44AaOEY&export=download to /tmp/u-0-uc.\n"
          ]
        }
      ]
    },
    {
      "cell_type": "code",
      "source": [
        "Text_pdf"
      ],
      "metadata": {
        "colab": {
          "base_uri": "https://localhost:8080/"
        },
        "id": "VO71GMj0a3sS",
        "outputId": "0b3e5059-4c34-4005-e7c4-81ffd0bc3ab4"
      },
      "execution_count": null,
      "outputs": [
        {
          "output_type": "execute_result",
          "data": {
            "text/plain": [
              "[\"SECOND REGULAR SESSION\\n\\n\\nHOUSE BILL NO. 1409\\n102ND GENERAL ASSEMBLY\\n\\n\\nINTRODUCED BY REPRESENTATIVE BILLINGTON.\\n\\n\\n3015H.01I DANA RADEMAN MILLER, Chief Clerk\\n\\n\\nAN ACT\\nTo repeal section 301.227, RSMo, and to enact in lieu thereof one new section relating to\\n\\n\\ninoperable motor vehicles.\\n\\n\\nBe it enacted by the General Assembly of the state of Missouri, as follows:\\n\\n\\nSection A. Section 301.227, RSMo, is repealed and one new section enacted in lieu\\n2 thereof, to be known as section 301.227, to read as follows:\\n\\n\\n301.227. 1. Whenever a vehicle is sold for salvage, dismantling or rebuilding, the\\n2 purchaser shall forward to the director of revenue within ten days the certificate of ownership\\n3 or salvage certificate of title and the proper application and fee of eight dollars and fifty cents,\\n4 and the director shall issue a negotiable salvage certificate of title to the purchaser of the\\n5 salvaged vehicle. On vehicles purchased during a year that is no more than six years after the\\n6 manufacturer's model year designation for such vehicle, it shall be mandatory that the\\n7 purchaser apply for a salvage title. On vehicles purchased during a year that is more than six\\n8 years after the manufacturer's model year designation for such vehicle, then application for a\\n9 salvage title shall be optional on the part of the purchaser. Whenever a vehicle is sold for\\n\\n\\n10 destruction and a salvage certificate of title, junking certificate, or certificate of ownership\\n11 exists, the seller, if licensed under sections 301.217 to 301.221, shall forward the certificate to\\n12 the director of revenue within ten days, with the notation of the date sold for destruction and\\n13 the name of the purchaser clearly shown on the face of the certificate.\\n14 2. Whenever a vehicle is classified as junk, as defined in section 301.010, the\\n15 purchaser may forward to the director of revenue a properly completed application for a\\n16 junking certificate as well as the salvage certificate of title or certificate of ownership and the\\n17 director shall issue a negotiable junking certificate to the purchaser of the vehicle. The\\n\\n\\nEXPLANATION — Matter enclosed in bold-faced brackets [thus] in the above bill is not enacted and is\\nintended to be omitted from the law. Matter in bold-face type in the above bill is proposed language.\",\n",
              " \"18 director may also issue a junking certificate to a possessor of a vehicle manufactured twenty-\\n19 six years or more prior to the current model year who has a bill of sale for said vehicle but\\n20 does not possess a certificate of ownership, provided no claim of theft has been made on the\\n21 vehicle and the highway patrol has by letter stated the vehicle is not listed as stolen after\\n22 checking the registration number through its nationwide computer system. Such junking\\n23 certificate may be granted within thirty days of the submission of a request. A junking\\n24 certificate shall authorize the holder to possess, transport, or, by assignment, transfer\\n25 ownership in such parts, scrap, or junk.\\n26 3. For any vehicle issued a junking certificate or such similar document or\\n27 classification pursuant to the laws of another state, regardless of whether such designation has\\n28 been subsequently changed by law in any other state, the department shall only issue a\\n29 junking certificate, and a salvage certificate of title or original certificate of ownership shall\\n30 not thereafter be issued for such vehicle. Notwithstanding the provisions of this subsection, if\\n31 the vehicle has not previously been classified as a junk vehicle, the applicant making the\\n32 original junking certification application shall, within ninety days, be allowed to rescind his\\n33 application for a junking certificate by surrendering the junking certificate and apply for a\\n34 salvage certificate of title in his name. The seller of a vehicle for which a junking certificate\\n35 has been applied for or issued shall disclose such fact in writing to any prospective buyers\\n36 before sale of such vehicle; otherwise the sale shall be voidable at the option of the buyer.\\n37 4. No scrap metal operator shall acquire or purchase a motor vehicle or parts thereof\\n38 without, at the time of such acquisition, receiving the original certificate of ownership or\\n39 salvage certificate of title or junking certificate from the seller of the vehicle or parts, unless\\n40 the seller is a licensee under sections 301.219 to 301.221.\\n41 5. All titles and certificates required to be received by scrap metal operators from\\n42 nonlicensees shall be forwarded by the operator to the director of revenue within ten days of\\n43 the receipt of the vehicle or parts.\\n44 6. The scrap metal operator shall keep a record, for three years, of the seller's name\\n45 and address, the salvage business license number of the licensee, date of purchase, and any\\n46 vehicle or parts identification numbers open for inspection as provided in section 301.225.\\n47 7. Notwithstanding any other provision of this section, a motor vehicle dealer as\\n48 defined in section 301.550 and licensed under the provisions of sections 301.550 to 301.572\\n49 may negotiate one reassignment of a salvage certificate of title on the back thereof.\\n50 8. Notwithstanding the provisions of subsection 1 of this section, an insurance\\n51 company which settles a claim for a stolen vehicle may apply for and shall be issued a\\n52 negotiable salvage certificate of title without the payment of any fee upon proper application\\n53 within thirty days after settlement of the claim for such stolen vehicle. However, if the\\n54 insurance company upon recovery of a stolen vehicle determines that the stolen vehicle has\\n\\n\\nHB 1409 2\",\n",
              " '55 not sustained damage to the extent that the vehicle would have otherwise been declared a\\n56 salvage vehicle pursuant to section 301.010, then the insurance company may have the\\n57 vehicle inspected by the Missouri state highway patrol, or other law enforcement agency\\n58 authorized by the director of revenue, in accordance with the inspection provisions of\\n59 subsection 9 of section 301.190. Upon receipt of title application, applicable fee, the\\n60 completed inspection, and the return of any previously issued negotiable salvage certificate,\\n61 the director shall issue an original title with no salvage or prior salvage designation. Upon the\\n62 issuance of an original title the director shall remove any indication of the negotiable salvage\\n63 title previously issued to the insurance company from the department\\'s electronic records.\\n64 9. Notwithstanding subsection 4 of this section or any other provision of the law to\\n65 the contrary, if a motor vehicle is inoperable and is at least [ten] twenty model years old, or\\n66 the parts are from a motor vehicle that is inoperable and is at least [ten] twenty model years\\n67 old, a scrap metal operator may purchase or acquire such motor vehicle or parts without\\n68 receiving the original certificate of ownership, salvage certificate of title, or junking\\n69 certificate from the seller of the vehicle or parts, provided the scrap metal operator verifies\\n70 with the department of revenue, via the department\\'s online record access, that the motor\\n71 vehicle is not subject to any recorded security interest or lien and the scrap metal operator\\n72 complies with the requirements of this subsection. In lieu of forwarding certificates of title or\\n73 ownership for such motor vehicles as required by subsection 5 of this section, the scrap metal\\n74 operator shall forward a copy of the seller\\'s state identification card along with a bill of sale to\\n75 the department of revenue. The bill of sale form shall be designed by the director and such\\n76 form shall include, but not be limited to, a certification that the motor vehicle is at least [ten]\\n77 twenty model years old, is inoperable, is not subject to any recorded security interest or lien,\\n78 and a certification by the seller that the seller has the legal authority to sell or otherwise\\n79 transfer the seller\\'s interest in the motor vehicle or parts. Upon receipt of the information\\n80 required by this subsection, the department of revenue shall cancel any certificate of title or\\n81 ownership and registration for the motor vehicle. If the motor vehicle is inoperable and at\\n82 least twenty model years old, then the scrap metal operator shall not be required to verify with\\n83 the department of revenue whether the motor vehicle is subject to any recorded security\\n84 interests or liens. As used in this subsection, the term \"inoperable\" means a motor vehicle\\n85 that is in a rusted, wrecked, discarded, worn out, extensively damaged, dismantled, and\\n86 mechanically inoperative condition and the vehicle\\'s highest and best use is for scrap\\n87 purposes. The director of the department of revenue is directed to promulgate rules and\\n88 regulations to implement and administer the provisions of this section, including but not\\n89 limited to, the development of a uniform bill of sale. Any rule or portion of a rule, as that\\n90 term is defined in section 536.010, that is created under the authority delegated in this section\\n91 shall become effective only if it complies with and is subject to all of the provisions of\\n\\n\\nHB 1409 3',\n",
              " '92 chapter 536 and, if applicable, section 536.028. This section and chapter 536 are\\n93 nonseverable and if any of the powers vested with the general assembly pursuant to chapter\\n94 536 to review, to delay the effective date, or to disapprove and annul a rule are subsequently\\n95 held unconstitutional, then the grant of rulemaking authority and any rule proposed or\\n96 adopted after August 28, 2012, shall be invalid and void.\\n\\n\\n✔\\n\\n\\nHB 1409 4']"
            ]
          },
          "metadata": {},
          "execution_count": 60
        }
      ]
    },
    {
      "cell_type": "code",
      "source": [
        "combined_text = \"\\n\".join(Text_pdf)"
      ],
      "metadata": {
        "id": "JFwJTTnZUykp"
      },
      "execution_count": null,
      "outputs": []
    },
    {
      "cell_type": "code",
      "source": [
        "combined_text"
      ],
      "metadata": {
        "colab": {
          "base_uri": "https://localhost:8080/",
          "height": 108
        },
        "id": "4IomZ1Ap0qQl",
        "outputId": "02e39622-4427-435f-963b-a6af963d8842"
      },
      "execution_count": null,
      "outputs": [
        {
          "output_type": "execute_result",
          "data": {
            "text/plain": [
              "'SECOND REGULAR SESSION\\n\\n\\nHOUSE BILL NO. 1409\\n102ND GENERAL ASSEMBLY\\n\\n\\nINTRODUCED BY REPRESENTATIVE BILLINGTON.\\n\\n\\n3015H.01I DANA RADEMAN MILLER, Chief Clerk\\n\\n\\nAN ACT\\nTo repeal section 301.227, RSMo, and to enact in lieu thereof one new section relating to\\n\\n\\ninoperable motor vehicles.\\n\\n\\nBe it enacted by the General Assembly of the state of Missouri, as follows:\\n\\n\\nSection A. Section 301.227, RSMo, is repealed and one new section enacted in lieu\\n2 thereof, to be known as section 301.227, to read as follows:\\n\\n\\n301.227. 1. Whenever a vehicle is sold for salvage, dismantling or rebuilding, the\\n2 purchaser shall forward to the director of revenue within ten days the certificate of ownership\\n3 or salvage certificate of title and the proper application and fee of eight dollars and fifty cents,\\n4 and the director shall issue a negotiable salvage certificate of title to the purchaser of the\\n5 salvaged vehicle. On vehicles purchased during a year that is no more than six years after the\\n6 manufacturer\\'s model year designation for such vehicle, it shall be mandatory that the\\n7 purchaser apply for a salvage title. On vehicles purchased during a year that is more than six\\n8 years after the manufacturer\\'s model year designation for such vehicle, then application for a\\n9 salvage title shall be optional on the part of the purchaser. Whenever a vehicle is sold for\\n\\n\\n10 destruction and a salvage certificate of title, junking certificate, or certificate of ownership\\n11 exists, the seller, if licensed under sections 301.217 to 301.221, shall forward the certificate to\\n12 the director of revenue within ten days, with the notation of the date sold for destruction and\\n13 the name of the purchaser clearly shown on the face of the certificate.\\n14 2. Whenever a vehicle is classified as junk, as defined in section 301.010, the\\n15 purchaser may forward to the director of revenue a properly completed application for a\\n16 junking certificate as well as the salvage certificate of title or certificate of ownership and the\\n17 director shall issue a negotiable junking certificate to the purchaser of the vehicle. The\\n\\n\\nEXPLANATION — Matter enclosed in bold-faced brackets [thus] in the above bill is not enacted and is\\nintended to be omitted from the law. Matter in bold-face type in the above bill is proposed language.\\n18 director may also issue a junking certificate to a possessor of a vehicle manufactured twenty-\\n19 six years or more prior to the current model year who has a bill of sale for said vehicle but\\n20 does not possess a certificate of ownership, provided no claim of theft has been made on the\\n21 vehicle and the highway patrol has by letter stated the vehicle is not listed as stolen after\\n22 checking the registration number through its nationwide computer system. Such junking\\n23 certificate may be granted within thirty days of the submission of a request. A junking\\n24 certificate shall authorize the holder to possess, transport, or, by assignment, transfer\\n25 ownership in such parts, scrap, or junk.\\n26 3. For any vehicle issued a junking certificate or such similar document or\\n27 classification pursuant to the laws of another state, regardless of whether such designation has\\n28 been subsequently changed by law in any other state, the department shall only issue a\\n29 junking certificate, and a salvage certificate of title or original certificate of ownership shall\\n30 not thereafter be issued for such vehicle. Notwithstanding the provisions of this subsection, if\\n31 the vehicle has not previously been classified as a junk vehicle, the applicant making the\\n32 original junking certification application shall, within ninety days, be allowed to rescind his\\n33 application for a junking certificate by surrendering the junking certificate and apply for a\\n34 salvage certificate of title in his name. The seller of a vehicle for which a junking certificate\\n35 has been applied for or issued shall disclose such fact in writing to any prospective buyers\\n36 before sale of such vehicle; otherwise the sale shall be voidable at the option of the buyer.\\n37 4. No scrap metal operator shall acquire or purchase a motor vehicle or parts thereof\\n38 without, at the time of such acquisition, receiving the original certificate of ownership or\\n39 salvage certificate of title or junking certificate from the seller of the vehicle or parts, unless\\n40 the seller is a licensee under sections 301.219 to 301.221.\\n41 5. All titles and certificates required to be received by scrap metal operators from\\n42 nonlicensees shall be forwarded by the operator to the director of revenue within ten days of\\n43 the receipt of the vehicle or parts.\\n44 6. The scrap metal operator shall keep a record, for three years, of the seller\\'s name\\n45 and address, the salvage business license number of the licensee, date of purchase, and any\\n46 vehicle or parts identification numbers open for inspection as provided in section 301.225.\\n47 7. Notwithstanding any other provision of this section, a motor vehicle dealer as\\n48 defined in section 301.550 and licensed under the provisions of sections 301.550 to 301.572\\n49 may negotiate one reassignment of a salvage certificate of title on the back thereof.\\n50 8. Notwithstanding the provisions of subsection 1 of this section, an insurance\\n51 company which settles a claim for a stolen vehicle may apply for and shall be issued a\\n52 negotiable salvage certificate of title without the payment of any fee upon proper application\\n53 within thirty days after settlement of the claim for such stolen vehicle. However, if the\\n54 insurance company upon recovery of a stolen vehicle determines that the stolen vehicle has\\n\\n\\nHB 1409 2\\n55 not sustained damage to the extent that the vehicle would have otherwise been declared a\\n56 salvage vehicle pursuant to section 301.010, then the insurance company may have the\\n57 vehicle inspected by the Missouri state highway patrol, or other law enforcement agency\\n58 authorized by the director of revenue, in accordance with the inspection provisions of\\n59 subsection 9 of section 301.190. Upon receipt of title application, applicable fee, the\\n60 completed inspection, and the return of any previously issued negotiable salvage certificate,\\n61 the director shall issue an original title with no salvage or prior salvage designation. Upon the\\n62 issuance of an original title the director shall remove any indication of the negotiable salvage\\n63 title previously issued to the insurance company from the department\\'s electronic records.\\n64 9. Notwithstanding subsection 4 of this section or any other provision of the law to\\n65 the contrary, if a motor vehicle is inoperable and is at least [ten] twenty model years old, or\\n66 the parts are from a motor vehicle that is inoperable and is at least [ten] twenty model years\\n67 old, a scrap metal operator may purchase or acquire such motor vehicle or parts without\\n68 receiving the original certificate of ownership, salvage certificate of title, or junking\\n69 certificate from the seller of the vehicle or parts, provided the scrap metal operator verifies\\n70 with the department of revenue, via the department\\'s online record access, that the motor\\n71 vehicle is not subject to any recorded security interest or lien and the scrap metal operator\\n72 complies with the requirements of this subsection. In lieu of forwarding certificates of title or\\n73 ownership for such motor vehicles as required by subsection 5 of this section, the scrap metal\\n74 operator shall forward a copy of the seller\\'s state identification card along with a bill of sale to\\n75 the department of revenue. The bill of sale form shall be designed by the director and such\\n76 form shall include, but not be limited to, a certification that the motor vehicle is at least [ten]\\n77 twenty model years old, is inoperable, is not subject to any recorded security interest or lien,\\n78 and a certification by the seller that the seller has the legal authority to sell or otherwise\\n79 transfer the seller\\'s interest in the motor vehicle or parts. Upon receipt of the information\\n80 required by this subsection, the department of revenue shall cancel any certificate of title or\\n81 ownership and registration for the motor vehicle. If the motor vehicle is inoperable and at\\n82 least twenty model years old, then the scrap metal operator shall not be required to verify with\\n83 the department of revenue whether the motor vehicle is subject to any recorded security\\n84 interests or liens. As used in this subsection, the term \"inoperable\" means a motor vehicle\\n85 that is in a rusted, wrecked, discarded, worn out, extensively damaged, dismantled, and\\n86 mechanically inoperative condition and the vehicle\\'s highest and best use is for scrap\\n87 purposes. The director of the department of revenue is directed to promulgate rules and\\n88 regulations to implement and administer the provisions of this section, including but not\\n89 limited to, the development of a uniform bill of sale. Any rule or portion of a rule, as that\\n90 term is defined in section 536.010, that is created under the authority delegated in this section\\n91 shall become effective only if it complies with and is subject to all of the provisions of\\n\\n\\nHB 1409 3\\n92 chapter 536 and, if applicable, section 536.028. This section and chapter 536 are\\n93 nonseverable and if any of the powers vested with the general assembly pursuant to chapter\\n94 536 to review, to delay the effective date, or to disapprove and annul a rule are subsequently\\n95 held unconstitutional, then the grant of rulemaking authority and any rule proposed or\\n96 adopted after August 28, 2012, shall be invalid and void.\\n\\n\\n✔\\n\\n\\nHB 1409 4'"
            ],
            "application/vnd.google.colaboratory.intrinsic+json": {
              "type": "string"
            }
          },
          "metadata": {},
          "execution_count": 62
        }
      ]
    },
    {
      "cell_type": "code",
      "source": [
        "from transformers import pipeline\n",
        "summarizer = pipeline(\"summarization\", model=\"sshleifer/distilbart-cnn-12-6\")"
      ],
      "metadata": {
        "id": "Iu2TO52NyPaT"
      },
      "execution_count": null,
      "outputs": []
    },
    {
      "cell_type": "code",
      "source": [
        "facebook_model_summary = summarizer(Text_pdf, max_length=512, truncation=True, do_sample=False, min_length=30)"
      ],
      "metadata": {
        "id": "ObQ72aCayUPH",
        "colab": {
          "base_uri": "https://localhost:8080/"
        },
        "outputId": "0f8ed330-7b0c-45e4-d980-d57c5efe1288"
      },
      "execution_count": null,
      "outputs": [
        {
          "output_type": "stream",
          "name": "stderr",
          "text": [
            "Your max_length is set to 512, but your input_length is only 108. Since this is a summarization task, where outputs shorter than the input are typically wanted, you might consider decreasing max_length manually, e.g. summarizer('...', max_length=54)\n"
          ]
        }
      ]
    },
    {
      "cell_type": "code",
      "source": [
        "merged_summary_facebook = \" \".join(item['summary_text'] for item in facebook_model_summary)\n",
        "print(merged_summary_facebook)"
      ],
      "metadata": {
        "colab": {
          "base_uri": "https://localhost:8080/"
        },
        "id": "x4AYgzOPyYzU",
        "outputId": "ee106af9-0ac6-4ad2-f0f0-0f64b7b3f311"
      },
      "execution_count": null,
      "outputs": [
        {
          "output_type": "stream",
          "name": "stdout",
          "text": [
            " Missouri bill would repeal section 301.227, RSMo, and to enact in lieu thereof one new section relating to unoperable motor vehicles . The General Assembly of the state of Missouri passed the bill in the second session of the legislature .  18 director may also issue junking certificate to a possessor of a vehicle manufactured six years or more prior to the current model year who has a bill of sale for said vehicle but does not possess a certificate of ownership, provided no claim of theft has been made on the vehicle . No scrap metal operator shall acquire or purchase a motor vehicle without, at the time of such acquisition, the seller of the vehicle or parts .  The insurance company may have the vehicle inspected by the Missouri state highway patrol, or other law enforcement agency authorized by the director of revenue, in accordance with the inspection provisions of section 301.190 . A scrap metal operator may purchase or acquire such motor vehicle without receiving the original certificate of ownership, salvage certificate of title, or junking certificate from the seller of the vehicle or parts .  If powers vested with the general assembly are subsequently held unconstitutional, then the grant of rulemaking authority and any rule proposed or implemented after August 28, 2012, shall be invalid and void . This section and chapter 536 are currently nonseverable .\n"
          ]
        }
      ]
    },
    {
      "cell_type": "code",
      "source": [
        "merged_summary_facebook"
      ],
      "metadata": {
        "id": "0mL8k81a0Sw3",
        "colab": {
          "base_uri": "https://localhost:8080/",
          "height": 108
        },
        "outputId": "2534bb74-235b-4762-d4a5-6ec11a2492a4"
      },
      "execution_count": null,
      "outputs": [
        {
          "output_type": "execute_result",
          "data": {
            "text/plain": [
              "' Missouri bill would repeal section 301.227, RSMo, and to enact in lieu thereof one new section relating to unoperable motor vehicles . The General Assembly of the state of Missouri passed the bill in the second session of the legislature .  18 director may also issue junking certificate to a possessor of a vehicle manufactured six years or more prior to the current model year who has a bill of sale for said vehicle but does not possess a certificate of ownership, provided no claim of theft has been made on the vehicle . No scrap metal operator shall acquire or purchase a motor vehicle without, at the time of such acquisition, the seller of the vehicle or parts .  The insurance company may have the vehicle inspected by the Missouri state highway patrol, or other law enforcement agency authorized by the director of revenue, in accordance with the inspection provisions of section 301.190 . A scrap metal operator may purchase or acquire such motor vehicle without receiving the original certificate of ownership, salvage certificate of title, or junking certificate from the seller of the vehicle or parts .  If powers vested with the general assembly are subsequently held unconstitutional, then the grant of rulemaking authority and any rule proposed or implemented after August 28, 2012, shall be invalid and void . This section and chapter 536 are currently nonseverable .'"
            ],
            "application/vnd.google.colaboratory.intrinsic+json": {
              "type": "string"
            }
          },
          "metadata": {},
          "execution_count": 66
        }
      ]
    },
    {
      "cell_type": "code",
      "source": [
        "from transformers import pipeline\n",
        "\n",
        "pipe = pipeline(model=\"facebook/bart-large-mnli\")\n"
      ],
      "metadata": {
        "id": "Bi5zBrsAyc1D"
      },
      "execution_count": null,
      "outputs": []
    },
    {
      "cell_type": "code",
      "source": [
        "classified_tag_facebook = pipe(merged_summary_facebook,\n",
        "    candidate_labels=[\"Budget\", \"Education\", \"Government\", \"Data\", \"State Response\",\"Healthcare\",\"Other\", \"Privacy\", \"Military\",  \"Telecom\", \"Energy\",\"Transportation\",\"Social\", \"Labor\",\"AG\"],\n",
        ")"
      ],
      "metadata": {
        "id": "wmnF-iOFt4qn"
      },
      "execution_count": null,
      "outputs": []
    },
    {
      "cell_type": "code",
      "source": [
        "classified_tag_facebook"
      ],
      "metadata": {
        "id": "CJBuC2q_y1vN",
        "colab": {
          "base_uri": "https://localhost:8080/"
        },
        "outputId": "a2571069-873e-479e-98b7-dd64f9ae6375"
      },
      "execution_count": null,
      "outputs": [
        {
          "output_type": "execute_result",
          "data": {
            "text/plain": [
              "{'sequence': ' Missouri bill would repeal section 301.227, RSMo, and to enact in lieu thereof one new section relating to unoperable motor vehicles . The General Assembly of the state of Missouri passed the bill in the second session of the legislature .  18 director may also issue junking certificate to a possessor of a vehicle manufactured six years or more prior to the current model year who has a bill of sale for said vehicle but does not possess a certificate of ownership, provided no claim of theft has been made on the vehicle . No scrap metal operator shall acquire or purchase a motor vehicle without, at the time of such acquisition, the seller of the vehicle or parts .  The insurance company may have the vehicle inspected by the Missouri state highway patrol, or other law enforcement agency authorized by the director of revenue, in accordance with the inspection provisions of section 301.190 . A scrap metal operator may purchase or acquire such motor vehicle without receiving the original certificate of ownership, salvage certificate of title, or junking certificate from the seller of the vehicle or parts .  If powers vested with the general assembly are subsequently held unconstitutional, then the grant of rulemaking authority and any rule proposed or implemented after August 28, 2012, shall be invalid and void . This section and chapter 536 are currently nonseverable .',\n",
              " 'labels': ['AG',\n",
              "  'Government',\n",
              "  'State Response',\n",
              "  'Other',\n",
              "  'Social',\n",
              "  'Data',\n",
              "  'Privacy',\n",
              "  'Telecom',\n",
              "  'Military',\n",
              "  'Budget',\n",
              "  'Transportation',\n",
              "  'Energy',\n",
              "  'Healthcare',\n",
              "  'Labor',\n",
              "  'Education'],\n",
              " 'scores': [0.15525615215301514,\n",
              "  0.13230560719966888,\n",
              "  0.11477021127939224,\n",
              "  0.08922169357538223,\n",
              "  0.0739947259426117,\n",
              "  0.059450045228004456,\n",
              "  0.051763053983449936,\n",
              "  0.051003918051719666,\n",
              "  0.05060650035738945,\n",
              "  0.05054552108049393,\n",
              "  0.03935370594263077,\n",
              "  0.03842449188232422,\n",
              "  0.037092093378305435,\n",
              "  0.031259119510650635,\n",
              "  0.024953266605734825]}"
            ]
          },
          "metadata": {},
          "execution_count": 69
        }
      ]
    },
    {
      "cell_type": "code",
      "source": [
        "Text_pdf"
      ],
      "metadata": {
        "id": "2ZFOfu-j03VQ",
        "colab": {
          "base_uri": "https://localhost:8080/"
        },
        "outputId": "f682deb5-ce19-43c5-81c6-89c84ebb3163"
      },
      "execution_count": null,
      "outputs": [
        {
          "output_type": "execute_result",
          "data": {
            "text/plain": [
              "[\"SECOND REGULAR SESSION\\n\\n\\nHOUSE BILL NO. 1409\\n102ND GENERAL ASSEMBLY\\n\\n\\nINTRODUCED BY REPRESENTATIVE BILLINGTON.\\n\\n\\n3015H.01I DANA RADEMAN MILLER, Chief Clerk\\n\\n\\nAN ACT\\nTo repeal section 301.227, RSMo, and to enact in lieu thereof one new section relating to\\n\\n\\ninoperable motor vehicles.\\n\\n\\nBe it enacted by the General Assembly of the state of Missouri, as follows:\\n\\n\\nSection A. Section 301.227, RSMo, is repealed and one new section enacted in lieu\\n2 thereof, to be known as section 301.227, to read as follows:\\n\\n\\n301.227. 1. Whenever a vehicle is sold for salvage, dismantling or rebuilding, the\\n2 purchaser shall forward to the director of revenue within ten days the certificate of ownership\\n3 or salvage certificate of title and the proper application and fee of eight dollars and fifty cents,\\n4 and the director shall issue a negotiable salvage certificate of title to the purchaser of the\\n5 salvaged vehicle. On vehicles purchased during a year that is no more than six years after the\\n6 manufacturer's model year designation for such vehicle, it shall be mandatory that the\\n7 purchaser apply for a salvage title. On vehicles purchased during a year that is more than six\\n8 years after the manufacturer's model year designation for such vehicle, then application for a\\n9 salvage title shall be optional on the part of the purchaser. Whenever a vehicle is sold for\\n\\n\\n10 destruction and a salvage certificate of title, junking certificate, or certificate of ownership\\n11 exists, the seller, if licensed under sections 301.217 to 301.221, shall forward the certificate to\\n12 the director of revenue within ten days, with the notation of the date sold for destruction and\\n13 the name of the purchaser clearly shown on the face of the certificate.\\n14 2. Whenever a vehicle is classified as junk, as defined in section 301.010, the\\n15 purchaser may forward to the director of revenue a properly completed application for a\\n16 junking certificate as well as the salvage certificate of title or certificate of ownership and the\\n17 director shall issue a negotiable junking certificate to the purchaser of the vehicle. The\\n\\n\\nEXPLANATION — Matter enclosed in bold-faced brackets [thus] in the above bill is not enacted and is\\nintended to be omitted from the law. Matter in bold-face type in the above bill is proposed language.\",\n",
              " \"18 director may also issue a junking certificate to a possessor of a vehicle manufactured twenty-\\n19 six years or more prior to the current model year who has a bill of sale for said vehicle but\\n20 does not possess a certificate of ownership, provided no claim of theft has been made on the\\n21 vehicle and the highway patrol has by letter stated the vehicle is not listed as stolen after\\n22 checking the registration number through its nationwide computer system. Such junking\\n23 certificate may be granted within thirty days of the submission of a request. A junking\\n24 certificate shall authorize the holder to possess, transport, or, by assignment, transfer\\n25 ownership in such parts, scrap, or junk.\\n26 3. For any vehicle issued a junking certificate or such similar document or\\n27 classification pursuant to the laws of another state, regardless of whether such designation has\\n28 been subsequently changed by law in any other state, the department shall only issue a\\n29 junking certificate, and a salvage certificate of title or original certificate of ownership shall\\n30 not thereafter be issued for such vehicle. Notwithstanding the provisions of this subsection, if\\n31 the vehicle has not previously been classified as a junk vehicle, the applicant making the\\n32 original junking certification application shall, within ninety days, be allowed to rescind his\\n33 application for a junking certificate by surrendering the junking certificate and apply for a\\n34 salvage certificate of title in his name. The seller of a vehicle for which a junking certificate\\n35 has been applied for or issued shall disclose such fact in writing to any prospective buyers\\n36 before sale of such vehicle; otherwise the sale shall be voidable at the option of the buyer.\\n37 4. No scrap metal operator shall acquire or purchase a motor vehicle or parts thereof\\n38 without, at the time of such acquisition, receiving the original certificate of ownership or\\n39 salvage certificate of title or junking certificate from the seller of the vehicle or parts, unless\\n40 the seller is a licensee under sections 301.219 to 301.221.\\n41 5. All titles and certificates required to be received by scrap metal operators from\\n42 nonlicensees shall be forwarded by the operator to the director of revenue within ten days of\\n43 the receipt of the vehicle or parts.\\n44 6. The scrap metal operator shall keep a record, for three years, of the seller's name\\n45 and address, the salvage business license number of the licensee, date of purchase, and any\\n46 vehicle or parts identification numbers open for inspection as provided in section 301.225.\\n47 7. Notwithstanding any other provision of this section, a motor vehicle dealer as\\n48 defined in section 301.550 and licensed under the provisions of sections 301.550 to 301.572\\n49 may negotiate one reassignment of a salvage certificate of title on the back thereof.\\n50 8. Notwithstanding the provisions of subsection 1 of this section, an insurance\\n51 company which settles a claim for a stolen vehicle may apply for and shall be issued a\\n52 negotiable salvage certificate of title without the payment of any fee upon proper application\\n53 within thirty days after settlement of the claim for such stolen vehicle. However, if the\\n54 insurance company upon recovery of a stolen vehicle determines that the stolen vehicle has\\n\\n\\nHB 1409 2\",\n",
              " '55 not sustained damage to the extent that the vehicle would have otherwise been declared a\\n56 salvage vehicle pursuant to section 301.010, then the insurance company may have the\\n57 vehicle inspected by the Missouri state highway patrol, or other law enforcement agency\\n58 authorized by the director of revenue, in accordance with the inspection provisions of\\n59 subsection 9 of section 301.190. Upon receipt of title application, applicable fee, the\\n60 completed inspection, and the return of any previously issued negotiable salvage certificate,\\n61 the director shall issue an original title with no salvage or prior salvage designation. Upon the\\n62 issuance of an original title the director shall remove any indication of the negotiable salvage\\n63 title previously issued to the insurance company from the department\\'s electronic records.\\n64 9. Notwithstanding subsection 4 of this section or any other provision of the law to\\n65 the contrary, if a motor vehicle is inoperable and is at least [ten] twenty model years old, or\\n66 the parts are from a motor vehicle that is inoperable and is at least [ten] twenty model years\\n67 old, a scrap metal operator may purchase or acquire such motor vehicle or parts without\\n68 receiving the original certificate of ownership, salvage certificate of title, or junking\\n69 certificate from the seller of the vehicle or parts, provided the scrap metal operator verifies\\n70 with the department of revenue, via the department\\'s online record access, that the motor\\n71 vehicle is not subject to any recorded security interest or lien and the scrap metal operator\\n72 complies with the requirements of this subsection. In lieu of forwarding certificates of title or\\n73 ownership for such motor vehicles as required by subsection 5 of this section, the scrap metal\\n74 operator shall forward a copy of the seller\\'s state identification card along with a bill of sale to\\n75 the department of revenue. The bill of sale form shall be designed by the director and such\\n76 form shall include, but not be limited to, a certification that the motor vehicle is at least [ten]\\n77 twenty model years old, is inoperable, is not subject to any recorded security interest or lien,\\n78 and a certification by the seller that the seller has the legal authority to sell or otherwise\\n79 transfer the seller\\'s interest in the motor vehicle or parts. Upon receipt of the information\\n80 required by this subsection, the department of revenue shall cancel any certificate of title or\\n81 ownership and registration for the motor vehicle. If the motor vehicle is inoperable and at\\n82 least twenty model years old, then the scrap metal operator shall not be required to verify with\\n83 the department of revenue whether the motor vehicle is subject to any recorded security\\n84 interests or liens. As used in this subsection, the term \"inoperable\" means a motor vehicle\\n85 that is in a rusted, wrecked, discarded, worn out, extensively damaged, dismantled, and\\n86 mechanically inoperative condition and the vehicle\\'s highest and best use is for scrap\\n87 purposes. The director of the department of revenue is directed to promulgate rules and\\n88 regulations to implement and administer the provisions of this section, including but not\\n89 limited to, the development of a uniform bill of sale. Any rule or portion of a rule, as that\\n90 term is defined in section 536.010, that is created under the authority delegated in this section\\n91 shall become effective only if it complies with and is subject to all of the provisions of\\n\\n\\nHB 1409 3',\n",
              " '92 chapter 536 and, if applicable, section 536.028. This section and chapter 536 are\\n93 nonseverable and if any of the powers vested with the general assembly pursuant to chapter\\n94 536 to review, to delay the effective date, or to disapprove and annul a rule are subsequently\\n95 held unconstitutional, then the grant of rulemaking authority and any rule proposed or\\n96 adopted after August 28, 2012, shall be invalid and void.\\n\\n\\n✔\\n\\n\\nHB 1409 4']"
            ]
          },
          "metadata": {},
          "execution_count": 70
        }
      ]
    },
    {
      "cell_type": "code",
      "source": [
        "from transformers import pipeline\n",
        "pipe = pipeline(\"summarization\", model=\"google/pegasus-xsum\")"
      ],
      "metadata": {
        "id": "eCdhafsCywTM",
        "colab": {
          "base_uri": "https://localhost:8080/"
        },
        "outputId": "4ad61843-25ef-4652-af95-4d2259f22a03"
      },
      "execution_count": null,
      "outputs": [
        {
          "output_type": "stream",
          "name": "stderr",
          "text": [
            "Some weights of PegasusForConditionalGeneration were not initialized from the model checkpoint at google/pegasus-xsum and are newly initialized: ['model.decoder.embed_positions.weight', 'model.encoder.embed_positions.weight']\n",
            "You should probably TRAIN this model on a down-stream task to be able to use it for predictions and inference.\n"
          ]
        }
      ]
    },
    {
      "cell_type": "code",
      "source": [
        "Text_pdf"
      ],
      "metadata": {
        "colab": {
          "base_uri": "https://localhost:8080/"
        },
        "id": "I7-fvXF8Fx9M",
        "outputId": "d9074b12-7687-46d4-bd63-51a985c65916"
      },
      "execution_count": null,
      "outputs": [
        {
          "output_type": "execute_result",
          "data": {
            "text/plain": [
              "[\"SECOND REGULAR SESSION\\n\\n\\nHOUSE BILL NO. 1409\\n102ND GENERAL ASSEMBLY\\n\\n\\nINTRODUCED BY REPRESENTATIVE BILLINGTON.\\n\\n\\n3015H.01I DANA RADEMAN MILLER, Chief Clerk\\n\\n\\nAN ACT\\nTo repeal section 301.227, RSMo, and to enact in lieu thereof one new section relating to\\n\\n\\ninoperable motor vehicles.\\n\\n\\nBe it enacted by the General Assembly of the state of Missouri, as follows:\\n\\n\\nSection A. Section 301.227, RSMo, is repealed and one new section enacted in lieu\\n2 thereof, to be known as section 301.227, to read as follows:\\n\\n\\n301.227. 1. Whenever a vehicle is sold for salvage, dismantling or rebuilding, the\\n2 purchaser shall forward to the director of revenue within ten days the certificate of ownership\\n3 or salvage certificate of title and the proper application and fee of eight dollars and fifty cents,\\n4 and the director shall issue a negotiable salvage certificate of title to the purchaser of the\\n5 salvaged vehicle. On vehicles purchased during a year that is no more than six years after the\\n6 manufacturer's model year designation for such vehicle, it shall be mandatory that the\\n7 purchaser apply for a salvage title. On vehicles purchased during a year that is more than six\\n8 years after the manufacturer's model year designation for such vehicle, then application for a\\n9 salvage title shall be optional on the part of the purchaser. Whenever a vehicle is sold for\\n\\n\\n10 destruction and a salvage certificate of title, junking certificate, or certificate of ownership\\n11 exists, the seller, if licensed under sections 301.217 to 301.221, shall forward the certificate to\\n12 the director of revenue within ten days, with the notation of the date sold for destruction and\\n13 the name of the purchaser clearly shown on the face of the certificate.\\n14 2. Whenever a vehicle is classified as junk, as defined in section 301.010, the\\n15 purchaser may forward to the director of revenue a properly completed application for a\\n16 junking certificate as well as the salvage certificate of title or certificate of ownership and the\\n17 director shall issue a negotiable junking certificate to the purchaser of the vehicle. The\\n\\n\\nEXPLANATION — Matter enclosed in bold-faced brackets [thus] in the above bill is not enacted and is\\nintended to be omitted from the law. Matter in bold-face type in the above bill is proposed language.\",\n",
              " \"18 director may also issue a junking certificate to a possessor of a vehicle manufactured twenty-\\n19 six years or more prior to the current model year who has a bill of sale for said vehicle but\\n20 does not possess a certificate of ownership, provided no claim of theft has been made on the\\n21 vehicle and the highway patrol has by letter stated the vehicle is not listed as stolen after\\n22 checking the registration number through its nationwide computer system. Such junking\\n23 certificate may be granted within thirty days of the submission of a request. A junking\\n24 certificate shall authorize the holder to possess, transport, or, by assignment, transfer\\n25 ownership in such parts, scrap, or junk.\\n26 3. For any vehicle issued a junking certificate or such similar document or\\n27 classification pursuant to the laws of another state, regardless of whether such designation has\\n28 been subsequently changed by law in any other state, the department shall only issue a\\n29 junking certificate, and a salvage certificate of title or original certificate of ownership shall\\n30 not thereafter be issued for such vehicle. Notwithstanding the provisions of this subsection, if\\n31 the vehicle has not previously been classified as a junk vehicle, the applicant making the\\n32 original junking certification application shall, within ninety days, be allowed to rescind his\\n33 application for a junking certificate by surrendering the junking certificate and apply for a\\n34 salvage certificate of title in his name. The seller of a vehicle for which a junking certificate\\n35 has been applied for or issued shall disclose such fact in writing to any prospective buyers\\n36 before sale of such vehicle; otherwise the sale shall be voidable at the option of the buyer.\\n37 4. No scrap metal operator shall acquire or purchase a motor vehicle or parts thereof\\n38 without, at the time of such acquisition, receiving the original certificate of ownership or\\n39 salvage certificate of title or junking certificate from the seller of the vehicle or parts, unless\\n40 the seller is a licensee under sections 301.219 to 301.221.\\n41 5. All titles and certificates required to be received by scrap metal operators from\\n42 nonlicensees shall be forwarded by the operator to the director of revenue within ten days of\\n43 the receipt of the vehicle or parts.\\n44 6. The scrap metal operator shall keep a record, for three years, of the seller's name\\n45 and address, the salvage business license number of the licensee, date of purchase, and any\\n46 vehicle or parts identification numbers open for inspection as provided in section 301.225.\\n47 7. Notwithstanding any other provision of this section, a motor vehicle dealer as\\n48 defined in section 301.550 and licensed under the provisions of sections 301.550 to 301.572\\n49 may negotiate one reassignment of a salvage certificate of title on the back thereof.\\n50 8. Notwithstanding the provisions of subsection 1 of this section, an insurance\\n51 company which settles a claim for a stolen vehicle may apply for and shall be issued a\\n52 negotiable salvage certificate of title without the payment of any fee upon proper application\\n53 within thirty days after settlement of the claim for such stolen vehicle. However, if the\\n54 insurance company upon recovery of a stolen vehicle determines that the stolen vehicle has\\n\\n\\nHB 1409 2\",\n",
              " '55 not sustained damage to the extent that the vehicle would have otherwise been declared a\\n56 salvage vehicle pursuant to section 301.010, then the insurance company may have the\\n57 vehicle inspected by the Missouri state highway patrol, or other law enforcement agency\\n58 authorized by the director of revenue, in accordance with the inspection provisions of\\n59 subsection 9 of section 301.190. Upon receipt of title application, applicable fee, the\\n60 completed inspection, and the return of any previously issued negotiable salvage certificate,\\n61 the director shall issue an original title with no salvage or prior salvage designation. Upon the\\n62 issuance of an original title the director shall remove any indication of the negotiable salvage\\n63 title previously issued to the insurance company from the department\\'s electronic records.\\n64 9. Notwithstanding subsection 4 of this section or any other provision of the law to\\n65 the contrary, if a motor vehicle is inoperable and is at least [ten] twenty model years old, or\\n66 the parts are from a motor vehicle that is inoperable and is at least [ten] twenty model years\\n67 old, a scrap metal operator may purchase or acquire such motor vehicle or parts without\\n68 receiving the original certificate of ownership, salvage certificate of title, or junking\\n69 certificate from the seller of the vehicle or parts, provided the scrap metal operator verifies\\n70 with the department of revenue, via the department\\'s online record access, that the motor\\n71 vehicle is not subject to any recorded security interest or lien and the scrap metal operator\\n72 complies with the requirements of this subsection. In lieu of forwarding certificates of title or\\n73 ownership for such motor vehicles as required by subsection 5 of this section, the scrap metal\\n74 operator shall forward a copy of the seller\\'s state identification card along with a bill of sale to\\n75 the department of revenue. The bill of sale form shall be designed by the director and such\\n76 form shall include, but not be limited to, a certification that the motor vehicle is at least [ten]\\n77 twenty model years old, is inoperable, is not subject to any recorded security interest or lien,\\n78 and a certification by the seller that the seller has the legal authority to sell or otherwise\\n79 transfer the seller\\'s interest in the motor vehicle or parts. Upon receipt of the information\\n80 required by this subsection, the department of revenue shall cancel any certificate of title or\\n81 ownership and registration for the motor vehicle. If the motor vehicle is inoperable and at\\n82 least twenty model years old, then the scrap metal operator shall not be required to verify with\\n83 the department of revenue whether the motor vehicle is subject to any recorded security\\n84 interests or liens. As used in this subsection, the term \"inoperable\" means a motor vehicle\\n85 that is in a rusted, wrecked, discarded, worn out, extensively damaged, dismantled, and\\n86 mechanically inoperative condition and the vehicle\\'s highest and best use is for scrap\\n87 purposes. The director of the department of revenue is directed to promulgate rules and\\n88 regulations to implement and administer the provisions of this section, including but not\\n89 limited to, the development of a uniform bill of sale. Any rule or portion of a rule, as that\\n90 term is defined in section 536.010, that is created under the authority delegated in this section\\n91 shall become effective only if it complies with and is subject to all of the provisions of\\n\\n\\nHB 1409 3',\n",
              " '92 chapter 536 and, if applicable, section 536.028. This section and chapter 536 are\\n93 nonseverable and if any of the powers vested with the general assembly pursuant to chapter\\n94 536 to review, to delay the effective date, or to disapprove and annul a rule are subsequently\\n95 held unconstitutional, then the grant of rulemaking authority and any rule proposed or\\n96 adopted after August 28, 2012, shall be invalid and void.\\n\\n\\n✔\\n\\n\\nHB 1409 4']"
            ]
          },
          "metadata": {},
          "execution_count": 74
        }
      ]
    },
    {
      "cell_type": "code",
      "source": [
        "google_model_summary = pipe(Text_pdf, max_length=512, min_length=100, do_sample=False, truncation=True)"
      ],
      "metadata": {
        "id": "fiPR1sIvy4mM",
        "colab": {
          "base_uri": "https://localhost:8080/"
        },
        "outputId": "66fd1a0a-8f0a-4b8c-a9d9-10d2f4833e82"
      },
      "execution_count": 77,
      "outputs": [
        {
          "output_type": "stream",
          "name": "stderr",
          "text": [
            "Your max_length is set to 512, but your input_length is only 475. Since this is a summarization task, where outputs shorter than the input are typically wanted, you might consider decreasing max_length manually, e.g. summarizer('...', max_length=237)\n",
            "Your max_length is set to 512, but your input_length is only 97. Since this is a summarization task, where outputs shorter than the input are typically wanted, you might consider decreasing max_length manually, e.g. summarizer('...', max_length=48)\n"
          ]
        }
      ]
    },
    {
      "cell_type": "code",
      "source": [
        "merged_summary_google = \" \".join(item['summary_text'] for item in google_model_summary)"
      ],
      "metadata": {
        "id": "cv-DYbH3y7iD"
      },
      "execution_count": null,
      "outputs": []
    },
    {
      "cell_type": "code",
      "source": [
        "merged_summary_google"
      ],
      "metadata": {
        "colab": {
          "base_uri": "https://localhost:8080/",
          "height": 216
        },
        "id": "ZSQhSDuC9EME",
        "outputId": "a9a609b4-8634-4a61-e469-7fbaa36a2bdd"
      },
      "execution_count": null,
      "outputs": [
        {
          "output_type": "execute_result",
          "data": {
            "text/plain": [
              "'An act to amend the arts and cultural affairs law, in relation to prohibiting ticket sales that exceed the capacity of a place of enter-tainment, and requiring original sellers of tickets to be licensed by the secretary of state The People of the State of New York, represented in Senate and Assem- bly, do enact as follows: 1 Section 1. The section heading of section 25.10 of the arts and cultural 16 affairs law, as added by chapter 110 of the laws of 2018, is amended and 17 a new subdivision 5 is added to read as follows: 18 Ticket resale requirements. Section 9549 of the arts and cultural affairs law, as amended by 32 chapter 61 of the laws of 2007, is amended to read as follows: 33  25.17. Section 25.17 of the arts and cultural affairs law, as amended by 32 chapter 61 of the laws of 2007), is amended to read as follows: 33  25.17 of the arts and cultural affairs law, as amended by 32 chapter 61 of the laws of 2007, is amended to read as follows: 33  25.17 of the arts and cultural affairs law, as amended by 32 chapter 61 of the laws of 2007, is amended to read as follows: 33  25.17 of the arts and cultural affairs law, as amended by 32 chapter 61 of the laws of 2007, is amended to read as follows: 33  25.17 of the arts and cultural affairs law, as amended by 32 chapter 61 of the laws of 2007, is amended to read as follows: 33  25.17 of the arts and cultural affairs law, as amended by 32 chapter 61 of the laws of 2007, is amended to read as follows: 33  25.17 of the arts and cultural affairs law, as amended by 32 chapter 61 of the laws of 2007, is amended to read as follows: This act makes it an offence for a place of entertainment to charge more than the price charged by the operator of the place of entertainment for which a 2 ticket is being sold by such licensee, together with the price being 3 charged by such licensee for the resale of such ticket, so that all persons visiting such place may readily see the same. 9549 3 1 price charged by the operator of the place of entertainment for which a 2 ticket is being sold by such licensee, together with the price being 3 charged by such licensee for the resale of such ticket, so thatsale or 4 all persons visiting such place may readily see the same.'"
            ],
            "application/vnd.google.colaboratory.intrinsic+json": {
              "type": "string"
            }
          },
          "metadata": {},
          "execution_count": 46
        }
      ]
    },
    {
      "cell_type": "code",
      "source": [
        "from transformers import pipeline\n",
        "\n",
        "pipe = pipeline(model=\"tasksource/deberta-base-long-nli\")\n",
        "classfied_tag_google = pipe(merged_summary_google,\n",
        "    candidate_labels=[\"Budget\", \"Education\", \"Government\", \"Data\", \"State Response\",\"Healthcare\",\"Other\", \"Privacy\", \"Military\",  \"Telecom\", \"Energy\",\"Transportation\",\"Social\", \"Labor\",\"AG\"],\n",
        ")"
      ],
      "metadata": {
        "id": "jAFL-ggqzA7N",
        "colab": {
          "base_uri": "https://localhost:8080/"
        },
        "outputId": "14924baa-fdca-41c4-f02a-889396338f52"
      },
      "execution_count": null,
      "outputs": [
        {
          "output_type": "stream",
          "name": "stderr",
          "text": [
            "Asking to truncate to max_length but no maximum length is provided and the model has no predefined maximum length. Default to no truncation.\n"
          ]
        }
      ]
    },
    {
      "cell_type": "code",
      "source": [
        "classfied_tag_google"
      ],
      "metadata": {
        "id": "3EyJIOya1OcS",
        "colab": {
          "base_uri": "https://localhost:8080/"
        },
        "outputId": "9741b66e-9831-4f48-ea0d-21a88eedcba0"
      },
      "execution_count": null,
      "outputs": [
        {
          "output_type": "execute_result",
          "data": {
            "text/plain": [
              "{'sequence': 'An act to amend the arts and cultural affairs law, in relation to prohibiting ticket sales that exceed the capacity of a place of enter-tainment, and requiring original sellers of tickets to be licensed by the secretary of state The People of the State of New York, represented in Senate and Assem- bly, do enact as follows: 1 Section 1. The section heading of section 25.10 of the arts and cultural 16 affairs law, as added by chapter 110 of the laws of 2018, is amended and 17 a new subdivision 5 is added to read as follows: 18 Ticket resale requirements. Section 9549 of the arts and cultural affairs law, as amended by 32 chapter 61 of the laws of 2007, is amended to read as follows: 33  25.17. Section 25.17 of the arts and cultural affairs law, as amended by 32 chapter 61 of the laws of 2007), is amended to read as follows: 33  25.17 of the arts and cultural affairs law, as amended by 32 chapter 61 of the laws of 2007, is amended to read as follows: 33  25.17 of the arts and cultural affairs law, as amended by 32 chapter 61 of the laws of 2007, is amended to read as follows: 33  25.17 of the arts and cultural affairs law, as amended by 32 chapter 61 of the laws of 2007, is amended to read as follows: 33  25.17 of the arts and cultural affairs law, as amended by 32 chapter 61 of the laws of 2007, is amended to read as follows: 33  25.17 of the arts and cultural affairs law, as amended by 32 chapter 61 of the laws of 2007, is amended to read as follows: 33  25.17 of the arts and cultural affairs law, as amended by 32 chapter 61 of the laws of 2007, is amended to read as follows: This act makes it an offence for a place of entertainment to charge more than the price charged by the operator of the place of entertainment for which a 2 ticket is being sold by such licensee, together with the price being 3 charged by such licensee for the resale of such ticket, so that all persons visiting such place may readily see the same. 9549 3 1 price charged by the operator of the place of entertainment for which a 2 ticket is being sold by such licensee, together with the price being 3 charged by such licensee for the resale of such ticket, so thatsale or 4 all persons visiting such place may readily see the same.',\n",
              " 'labels': ['Government',\n",
              "  'Other',\n",
              "  'AG',\n",
              "  'Data',\n",
              "  'State Response',\n",
              "  'Education',\n",
              "  'Privacy',\n",
              "  'Budget',\n",
              "  'Labor',\n",
              "  'Telecom',\n",
              "  'Energy',\n",
              "  'Military',\n",
              "  'Social',\n",
              "  'Healthcare',\n",
              "  'Transportation'],\n",
              " 'scores': [0.519437313079834,\n",
              "  0.12195061892271042,\n",
              "  0.08145499974489212,\n",
              "  0.06922033429145813,\n",
              "  0.05299884080886841,\n",
              "  0.03763839974999428,\n",
              "  0.024075759574770927,\n",
              "  0.013633733615279198,\n",
              "  0.013460594229400158,\n",
              "  0.012737949378788471,\n",
              "  0.012602631002664566,\n",
              "  0.010530877858400345,\n",
              "  0.010338854975998402,\n",
              "  0.010176755487918854,\n",
              "  0.009742442518472672]}"
            ]
          },
          "metadata": {},
          "execution_count": 48
        }
      ]
    },
    {
      "cell_type": "code",
      "source": [
        "from transformers import pipeline\n",
        "classifier = pipeline('zero-shot-classification', model='roberta-large-mnli')\n"
      ],
      "metadata": {
        "id": "S6KX_QHgr-Yq"
      },
      "execution_count": null,
      "outputs": []
    },
    {
      "cell_type": "code",
      "source": [
        "sequence_to_classify = \"Bharti Airtel, the second largest operator, provided salary hikes in the range of 10-12%. Loss-making Vodafone Idea, with over 9,000 employees, also gave hikes of 8-11%. Reliance Jio Infocomm has yet to announce the hikes for this year.\""
      ],
      "metadata": {
        "id": "kzCB09RI0Awc"
      },
      "execution_count": null,
      "outputs": []
    },
    {
      "cell_type": "code",
      "source": [
        "\n",
        "candidate_labels = [\"Budget\", \"Education\", \"Government\", \"Data\", \"State Response\",\"Healthcare\",\"Other\", \"Privacy\", \"Military\",  \"Telecom\", \"Energy\",\"Transportation\",\"Social\", \"Labor\",\"AG\"]\n",
        "classifier(sequence_to_classify, candidate_labels)\n"
      ],
      "metadata": {
        "id": "uIfzZovez6YV"
      },
      "execution_count": null,
      "outputs": []
    }
  ]
}