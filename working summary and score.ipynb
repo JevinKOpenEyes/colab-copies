{
  "nbformat": 4,
  "nbformat_minor": 0,
  "metadata": {
    "colab": {
      "provenance": [],
      "authorship_tag": "ABX9TyMJpfnYKdW2AECCT1bBpWyZ",
      "include_colab_link": true
    },
    "kernelspec": {
      "name": "python3",
      "display_name": "Python 3"
    },
    "language_info": {
      "name": "python"
    }
  },
  "cells": [
    {
      "cell_type": "markdown",
      "metadata": {
        "id": "view-in-github",
        "colab_type": "text"
      },
      "source": [
        "<a href=\"https://colab.research.google.com/github/JevinKOpenEyes/colab-copies/blob/main/working%20summary%20and%20score.ipynb\" target=\"_parent\"><img src=\"https://colab.research.google.com/assets/colab-badge.svg\" alt=\"Open In Colab\"/></a>"
      ]
    },
    {
      "cell_type": "code",
      "execution_count": null,
      "metadata": {
        "colab": {
          "base_uri": "https://localhost:8080/"
        },
        "id": "7ubXKnKY9iJ1",
        "outputId": "e021e379-ea14-4ffb-b314-00e4b59e93d7"
      },
      "outputs": [
        {
          "output_type": "stream",
          "name": "stdout",
          "text": [
            "  Preparing metadata (setup.py) ... \u001b[?25l\u001b[?25hdone\n",
            "\u001b[2K   \u001b[90m━━━━━━━━━━━━━━━━━━━━━━━━━━━━━━━━━━━━━━━━\u001b[0m \u001b[32m23.5/23.5 MB\u001b[0m \u001b[31m39.3 MB/s\u001b[0m eta \u001b[36m0:00:00\u001b[0m\n",
            "\u001b[2K   \u001b[90m━━━━━━━━━━━━━━━━━━━━━━━━━━━━━━━━━━━━━━━━\u001b[0m \u001b[32m85.3/85.3 MB\u001b[0m \u001b[31m6.7 MB/s\u001b[0m eta \u001b[36m0:00:00\u001b[0m\n",
            "\u001b[2K   \u001b[90m━━━━━━━━━━━━━━━━━━━━━━━━━━━━━━━━━━━━━━━━\u001b[0m \u001b[32m296.4/296.4 kB\u001b[0m \u001b[31m12.6 MB/s\u001b[0m eta \u001b[36m0:00:00\u001b[0m\n",
            "\u001b[2K   \u001b[90m━━━━━━━━━━━━━━━━━━━━━━━━━━━━━━━━━━━━━━━━\u001b[0m \u001b[32m547.8/547.8 kB\u001b[0m \u001b[31m23.1 MB/s\u001b[0m eta \u001b[36m0:00:00\u001b[0m\n",
            "\u001b[2K   \u001b[90m━━━━━━━━━━━━━━━━━━━━━━━━━━━━━━━━━━━━━━━━\u001b[0m \u001b[32m64.9/64.9 kB\u001b[0m \u001b[31m3.7 MB/s\u001b[0m eta \u001b[36m0:00:00\u001b[0m\n",
            "\u001b[2K   \u001b[90m━━━━━━━━━━━━━━━━━━━━━━━━━━━━━━━━━━━━━━━━\u001b[0m \u001b[32m13.2/13.2 MB\u001b[0m \u001b[31m64.1 MB/s\u001b[0m eta \u001b[36m0:00:00\u001b[0m\n",
            "\u001b[2K   \u001b[90m━━━━━━━━━━━━━━━━━━━━━━━━━━━━━━━━━━━━━━━━\u001b[0m \u001b[32m116.3/116.3 kB\u001b[0m \u001b[31m7.1 MB/s\u001b[0m eta \u001b[36m0:00:00\u001b[0m\n",
            "\u001b[2K   \u001b[90m━━━━━━━━━━━━━━━━━━━━━━━━━━━━━━━━━━━━━━━━\u001b[0m \u001b[32m316.1/316.1 kB\u001b[0m \u001b[31m18.2 MB/s\u001b[0m eta \u001b[36m0:00:00\u001b[0m\n",
            "\u001b[2K   \u001b[90m━━━━━━━━━━━━━━━━━━━━━━━━━━━━━━━━━━━━━━━━\u001b[0m \u001b[32m39.9/39.9 MB\u001b[0m \u001b[31m10.6 MB/s\u001b[0m eta \u001b[36m0:00:00\u001b[0m\n",
            "\u001b[2K   \u001b[90m━━━━━━━━━━━━━━━━━━━━━━━━━━━━━━━━━━━━━━━━\u001b[0m \u001b[32m134.8/134.8 kB\u001b[0m \u001b[31m7.9 MB/s\u001b[0m eta \u001b[36m0:00:00\u001b[0m\n",
            "\u001b[2K   \u001b[90m━━━━━━━━━━━━━━━━━━━━━━━━━━━━━━━━━━━━━━━━\u001b[0m \u001b[32m194.1/194.1 kB\u001b[0m \u001b[31m12.2 MB/s\u001b[0m eta \u001b[36m0:00:00\u001b[0m\n",
            "\u001b[2K   \u001b[90m━━━━━━━━━━━━━━━━━━━━━━━━━━━━━━━━━━━━━━━━\u001b[0m \u001b[32m19.7/19.7 MB\u001b[0m \u001b[31m61.0 MB/s\u001b[0m eta \u001b[36m0:00:00\u001b[0m\n",
            "\u001b[?25h  Building wheel for tika (setup.py) ... \u001b[?25l\u001b[?25hdone\n",
            "\u001b[31mERROR: pip's dependency resolver does not currently take into account all the packages that are installed. This behaviour is the source of the following dependency conflicts.\n",
            "cudf-cu12 24.4.1 requires pyarrow<15.0.0a0,>=14.0.1, but you have pyarrow 17.0.0 which is incompatible.\n",
            "gcsfs 2024.6.1 requires fsspec==2024.6.1, but you have fsspec 2024.5.0 which is incompatible.\n",
            "google-colab 1.0.0 requires requests==2.31.0, but you have requests 2.32.3 which is incompatible.\n",
            "ibis-framework 8.0.0 requires pyarrow<16,>=2, but you have pyarrow 17.0.0 which is incompatible.\u001b[0m\u001b[31m\n",
            "\u001b[0m"
          ]
        }
      ],
      "source": [
        "!pip install -q auto-gptq transformers tika aspose-words accelerate"
      ]
    },
    {
      "cell_type": "code",
      "source": [
        "import requests\n",
        "from tika import parser\n",
        "from bs4 import BeautifulSoup\n",
        "from io import StringIO"
      ],
      "metadata": {
        "id": "Dd_yfMPf96GX"
      },
      "execution_count": null,
      "outputs": []
    },
    {
      "cell_type": "code",
      "source": [
        "# This line gets ssf6.pdf files metadata from the google drive URI\n",
        "request=requests.get(\"https://generate-questions.devbyopeneyes.com/api/getFileData/66acaf7a1571ea56e405e9c2\")\n",
        "resp = request.json()\n",
        "\n",
        "# Getting file metadata\n",
        "file_path = (resp[\"data\"][\"file_path\"])\n",
        "file_name = (resp[\"data\"][\"file_name\"])\n",
        "_id = (resp[\"data\"][\"_id\"])\n",
        "file_type = (resp[\"data\"][\"file_type\"])\n",
        "user_file_name = (resp[\"data\"][\"file_name\"])\n",
        "type_of_question = (resp[\"data\"][\"type_of_question\"])"
      ],
      "metadata": {
        "id": "SEcJg4xK-DFx"
      },
      "execution_count": null,
      "outputs": []
    },
    {
      "cell_type": "code",
      "source": [
        "if file_type == \"pdf\" or file_type == \"txt\":\n",
        "    Text_pdf = []\n",
        "    # Read PDF file\n",
        "    data = parser.from_file(file_path, xmlContent=True)\n",
        "    xhtml_data = BeautifulSoup(data['content'])\n",
        "    for i, content in enumerate(xhtml_data.find_all('div', attrs={'class': 'page'})):\n",
        "        # Parse PDF data using TIKA (xml/html)\n",
        "        # It's faster and safer to create a new buffer than truncating it\n",
        "        # https://stackoverflow.com/questions/4330812/how-do-i-clear-a-stringio-object\n",
        "        _buffer = StringIO()\n",
        "        _buffer.write(str(content))\n",
        "        parsed_content = parser.from_buffer(_buffer.getvalue())\n",
        "\n",
        "        # Add pages\n",
        "        if parsed_content['content']!=None:\n",
        "            text = parsed_content['content'].strip()\n",
        "            Text_pdf.append(text)"
      ],
      "metadata": {
        "colab": {
          "base_uri": "https://localhost:8080/"
        },
        "id": "LYmBcu7i-Hlu",
        "outputId": "5f05d359-ec35-41c8-c09c-9220fb4878ff"
      },
      "execution_count": null,
      "outputs": [
        {
          "output_type": "stream",
          "name": "stderr",
          "text": [
            "2024-08-05 05:23:40,791 [MainThread  ] [INFO ]  Retrieving https://drive.google.com/u/0/uc?id=1ozCc6YVeBOy5047AeIJpj1WvbOJuuZDr&export=download to /tmp/u-0-uc.\n",
            "INFO:tika.tika:Retrieving https://drive.google.com/u/0/uc?id=1ozCc6YVeBOy5047AeIJpj1WvbOJuuZDr&export=download to /tmp/u-0-uc.\n",
            "2024-08-05 05:23:43,066 [MainThread  ] [INFO ]  Retrieving http://search.maven.org/remotecontent?filepath=org/apache/tika/tika-server-standard/2.6.0/tika-server-standard-2.6.0.jar to /tmp/tika-server.jar.\n",
            "INFO:tika.tika:Retrieving http://search.maven.org/remotecontent?filepath=org/apache/tika/tika-server-standard/2.6.0/tika-server-standard-2.6.0.jar to /tmp/tika-server.jar.\n",
            "2024-08-05 05:23:43,589 [MainThread  ] [INFO ]  Retrieving http://search.maven.org/remotecontent?filepath=org/apache/tika/tika-server-standard/2.6.0/tika-server-standard-2.6.0.jar.md5 to /tmp/tika-server.jar.md5.\n",
            "INFO:tika.tika:Retrieving http://search.maven.org/remotecontent?filepath=org/apache/tika/tika-server-standard/2.6.0/tika-server-standard-2.6.0.jar.md5 to /tmp/tika-server.jar.md5.\n",
            "2024-08-05 05:23:43,933 [MainThread  ] [WARNI]  Failed to see startup log message; retrying...\n",
            "WARNING:tika.tika:Failed to see startup log message; retrying...\n",
            "2024-08-05 05:23:48,946 [MainThread  ] [WARNI]  Failed to see startup log message; retrying...\n",
            "WARNING:tika.tika:Failed to see startup log message; retrying...\n"
          ]
        }
      ]
    },
    {
      "cell_type": "code",
      "source": [
        "from typing import List, Dict\n",
        "from tqdm import tqdm\n",
        "from transformers import pipeline\n",
        "\n",
        "candidate_labels = [\"Budget\", \"Education\", \"Government\", \"Data\", \"State Response\",\"Healthcare\",\"Other\", \"Privacy\", \"Military\",  \"Telecom\", \"Energy\",\"Transportation\",\"Social\", \"Labor\",\"AG\"]\n",
        "\n",
        "def get_pdf_by_id(hashcode: str) -> List[str]:\n",
        "    request=requests.get(\"https://generate-questions.devbyopeneyes.com/api/getFileData/%s\" % hashcode)\n",
        "    resp = request.json()\n",
        "\n",
        "    # Getting file metadata\n",
        "    file_path = (resp[\"data\"][\"file_path\"])\n",
        "    file_name = (resp[\"data\"][\"file_name\"])\n",
        "    _id = (resp[\"data\"][\"_id\"])\n",
        "    file_type = (resp[\"data\"][\"file_type\"])\n",
        "    user_file_name = (resp[\"data\"][\"file_name\"])\n",
        "    type_of_question = (resp[\"data\"][\"type_of_question\"])\n",
        "\n",
        "    if file_type == \"pdf\" or file_type == \"txt\":\n",
        "        Text_pdf = []\n",
        "        # Read PDF file\n",
        "        data = parser.from_file(file_path, xmlContent=True)\n",
        "        xhtml_data = BeautifulSoup(data['content'])\n",
        "        for i, content in enumerate(xhtml_data.find_all('div', attrs={'class': 'page'})):\n",
        "            # Parse PDF data using TIKA (xml/html)\n",
        "            # It's faster and safer to create a new buffer than truncating it\n",
        "            # https://stackoverflow.com/questions/4330812/how-do-i-clear-a-stringio-object\n",
        "            _buffer = StringIO()\n",
        "            _buffer.write(str(content))\n",
        "            parsed_content = parser.from_buffer(_buffer.getvalue())\n",
        "\n",
        "            # Add pages\n",
        "            if parsed_content['content']!=None:\n",
        "                text = parsed_content['content'].strip()\n",
        "                Text_pdf.append(text)\n",
        "\n",
        "        return Text_pdf\n",
        "\n",
        "def summarize_and_tag(texts: List[str], summary_model: str,\n",
        "                      zs_model: str, pdf_file_name: str, candidate_labels=candidate_labels) -> List[Dict[str, str]]:\n",
        "\n",
        "    summarizer = pipeline(\"summarization\", model=summary_model, do_sample=True)\n",
        "    zs_er = pipeline(\"zero-shot-classification\", model=zs_model)\n",
        "\n",
        "    summary = summarizer(text, max_length=300, min_length=100, do_sample=False)\n",
        "    summary = \" \".join(item[\"summary_text\"] for item in summary)\n",
        "\n",
        "    classification = zs_er(summary, candidate_labels=candidate_labels)\n",
        "    return {\"summary\": summary, \"classification_result\": classification, \"file_name\": pdf_file_name}\n"
      ],
      "metadata": {
        "id": "0cMjUVB5_kRA"
      },
      "execution_count": null,
      "outputs": []
    },
    {
      "cell_type": "code",
      "source": [
        "hashcodes = {\n",
        "    \"S9549\": \"66b07cb4c3a27f936a05d5b2\",\n",
        "    \"\"\n",
        "}\n",
        "\n",
        "summary_model = \"facebook/bart-large-cnn\"\n",
        "zs_model = \"tasksource/deberta-base-long-nli\"\n",
        "\n",
        "outputs = []\n",
        "for pdf_file, hashcode in hashcodes.items():\n",
        "    texts = get_pdf_by_id(hashcode)\n",
        "    outputs.append(summarize_and_tag(texts, summary_model=summary_model, zs_model=zs_model, pdf_file_name=pdf_file))\n"
      ],
      "metadata": {
        "colab": {
          "base_uri": "https://localhost:8080/"
        },
        "id": "3CS83rbg_v2m",
        "outputId": "19ca34a4-ef3c-492c-83ea-37bc41862c2d"
      },
      "execution_count": null,
      "outputs": [
        {
          "output_type": "stream",
          "name": "stderr",
          "text": [
            "2024-08-05 07:35:01,993 [MainThread  ] [INFO ]  Retrieving https://drive.google.com/u/0/uc?id=19ZV_f_CQYUHqwmrT6V7a56NEJEejB0Gn&export=download to /tmp/u-0-uc.\n",
            "INFO:tika.tika:Retrieving https://drive.google.com/u/0/uc?id=19ZV_f_CQYUHqwmrT6V7a56NEJEejB0Gn&export=download to /tmp/u-0-uc.\n",
            "Asking to truncate to max_length but no maximum length is provided and the model has no predefined maximum length. Default to no truncation.\n"
          ]
        }
      ]
    },
    {
      "cell_type": "code",
      "source": [
        "import pprint\n",
        "for output in outputs:\n",
        "    pprint.pprint(output[\"file_name\"])\n",
        "    pprint.pprint(output[\"summary\"])\n",
        "    pprint.pprint(output[\"classification_result\"])"
      ],
      "metadata": {
        "colab": {
          "base_uri": "https://localhost:8080/"
        },
        "id": "KcSQuFNxbYGO",
        "outputId": "fa160a9f-c122-46bb-8312-3133268f67f5"
      },
      "execution_count": null,
      "outputs": [
        {
          "output_type": "stream",
          "name": "stdout",
          "text": [
            "('This application may be harmful to your mental health. A social media '\n",
            " 'platform that complies with subsections 84, 85, and (3) may post a statement '\n",
            " 'confirming such compliance on 85 its Internet homepage or platform user '\n",
            " 'login page. A public K-12 school may not: (a)  Use or have an account on a '\n",
            " 'social media. platform that 88, 89, or 90 does not have a statement pursuant '\n",
            " 'to subsection (4) on its 89, 90, or 91, 91, 92, 93, 94, 95, 96, 97, 98, 99.')\n",
            "{'labels': ['Social',\n",
            "            'Education',\n",
            "            'Healthcare',\n",
            "            'Privacy',\n",
            "            'AG',\n",
            "            'Other',\n",
            "            'Government',\n",
            "            'Telecom',\n",
            "            'Data',\n",
            "            'State Response',\n",
            "            'Labor',\n",
            "            'Energy',\n",
            "            'Budget',\n",
            "            'Military',\n",
            "            'Transportation'],\n",
            " 'scores': [0.29423344135284424,\n",
            "            0.23428034782409668,\n",
            "            0.12644623219966888,\n",
            "            0.0993882566690445,\n",
            "            0.06643413007259369,\n",
            "            0.052139684557914734,\n",
            "            0.030930861830711365,\n",
            "            0.030740967020392418,\n",
            "            0.029579533264040947,\n",
            "            0.010848375968635082,\n",
            "            0.008687259629368782,\n",
            "            0.005799111910164356,\n",
            "            0.004432752262800932,\n",
            "            0.003626916091889143,\n",
            "            0.0024322306271642447],\n",
            " 'sequence': 'This application may be harmful to your mental health. A social '\n",
            "             'media platform that complies with subsections 84, 85, and (3) '\n",
            "             'may post a statement confirming such compliance on 85 its '\n",
            "             'Internet homepage or platform user login page. A public K-12 '\n",
            "             'school may not: (a)  Use or have an account on a social media. '\n",
            "             'platform that 88, 89, or 90 does not have a statement pursuant '\n",
            "             'to subsection (4) on its 89, 90, or 91, 91, 92, 93, 94, 95, 96, '\n",
            "             '97, 98, 99.'}\n"
          ]
        }
      ]
    },
    {
      "cell_type": "code",
      "source": [],
      "metadata": {
        "id": "Jo84AWf5cdkf"
      },
      "execution_count": null,
      "outputs": []
    }
  ]
}