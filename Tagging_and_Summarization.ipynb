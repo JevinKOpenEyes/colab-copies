{
  "nbformat": 4,
  "nbformat_minor": 0,
  "metadata": {
    "colab": {
      "provenance": [],
      "machine_shape": "hm",
      "authorship_tag": "ABX9TyMpTPn7ueTj930L2TBj3kB6",
      "include_colab_link": true
    },
    "kernelspec": {
      "name": "python3",
      "display_name": "Python 3"
    },
    "language_info": {
      "name": "python"
    },
    "widgets": {
      "application/vnd.jupyter.widget-state+json": {
        "c5df62716abe4621acb0f77126209b44": {
          "model_module": "@jupyter-widgets/controls",
          "model_name": "HBoxModel",
          "model_module_version": "1.5.0",
          "state": {
            "_dom_classes": [],
            "_model_module": "@jupyter-widgets/controls",
            "_model_module_version": "1.5.0",
            "_model_name": "HBoxModel",
            "_view_count": null,
            "_view_module": "@jupyter-widgets/controls",
            "_view_module_version": "1.5.0",
            "_view_name": "HBoxView",
            "box_style": "",
            "children": [
              "IPY_MODEL_734d2184da2c4237896eb957c6bf07d8",
              "IPY_MODEL_9819d71f9d1b4db2baeaaafaff0baac5",
              "IPY_MODEL_79f9d6bdce9f4a8cb219e341b76b76a9"
            ],
            "layout": "IPY_MODEL_9ee33a25149f49729f13a02701fdf567"
          }
        },
        "734d2184da2c4237896eb957c6bf07d8": {
          "model_module": "@jupyter-widgets/controls",
          "model_name": "HTMLModel",
          "model_module_version": "1.5.0",
          "state": {
            "_dom_classes": [],
            "_model_module": "@jupyter-widgets/controls",
            "_model_module_version": "1.5.0",
            "_model_name": "HTMLModel",
            "_view_count": null,
            "_view_module": "@jupyter-widgets/controls",
            "_view_module_version": "1.5.0",
            "_view_name": "HTMLView",
            "description": "",
            "description_tooltip": null,
            "layout": "IPY_MODEL_d6468f6ca94c4f52845368a711a0f243",
            "placeholder": "​",
            "style": "IPY_MODEL_a1f9a86d7faa4efb90b3b68d6bdba018",
            "value": "config.json: 100%"
          }
        },
        "9819d71f9d1b4db2baeaaafaff0baac5": {
          "model_module": "@jupyter-widgets/controls",
          "model_name": "FloatProgressModel",
          "model_module_version": "1.5.0",
          "state": {
            "_dom_classes": [],
            "_model_module": "@jupyter-widgets/controls",
            "_model_module_version": "1.5.0",
            "_model_name": "FloatProgressModel",
            "_view_count": null,
            "_view_module": "@jupyter-widgets/controls",
            "_view_module_version": "1.5.0",
            "_view_name": "ProgressView",
            "bar_style": "success",
            "description": "",
            "description_tooltip": null,
            "layout": "IPY_MODEL_49aa03a416e842bd8a47066c5b3b6395",
            "max": 688,
            "min": 0,
            "orientation": "horizontal",
            "style": "IPY_MODEL_8d2f020531c345a88cc241fc16017c61",
            "value": 688
          }
        },
        "79f9d6bdce9f4a8cb219e341b76b76a9": {
          "model_module": "@jupyter-widgets/controls",
          "model_name": "HTMLModel",
          "model_module_version": "1.5.0",
          "state": {
            "_dom_classes": [],
            "_model_module": "@jupyter-widgets/controls",
            "_model_module_version": "1.5.0",
            "_model_name": "HTMLModel",
            "_view_count": null,
            "_view_module": "@jupyter-widgets/controls",
            "_view_module_version": "1.5.0",
            "_view_name": "HTMLView",
            "description": "",
            "description_tooltip": null,
            "layout": "IPY_MODEL_ad1ff0c3a7e945e3987d666154f7081c",
            "placeholder": "​",
            "style": "IPY_MODEL_459e34fd75904db5b38c21d8c883fc57",
            "value": " 688/688 [00:00&lt;00:00, 50.0kB/s]"
          }
        },
        "9ee33a25149f49729f13a02701fdf567": {
          "model_module": "@jupyter-widgets/base",
          "model_name": "LayoutModel",
          "model_module_version": "1.2.0",
          "state": {
            "_model_module": "@jupyter-widgets/base",
            "_model_module_version": "1.2.0",
            "_model_name": "LayoutModel",
            "_view_count": null,
            "_view_module": "@jupyter-widgets/base",
            "_view_module_version": "1.2.0",
            "_view_name": "LayoutView",
            "align_content": null,
            "align_items": null,
            "align_self": null,
            "border": null,
            "bottom": null,
            "display": null,
            "flex": null,
            "flex_flow": null,
            "grid_area": null,
            "grid_auto_columns": null,
            "grid_auto_flow": null,
            "grid_auto_rows": null,
            "grid_column": null,
            "grid_gap": null,
            "grid_row": null,
            "grid_template_areas": null,
            "grid_template_columns": null,
            "grid_template_rows": null,
            "height": null,
            "justify_content": null,
            "justify_items": null,
            "left": null,
            "margin": null,
            "max_height": null,
            "max_width": null,
            "min_height": null,
            "min_width": null,
            "object_fit": null,
            "object_position": null,
            "order": null,
            "overflow": null,
            "overflow_x": null,
            "overflow_y": null,
            "padding": null,
            "right": null,
            "top": null,
            "visibility": null,
            "width": null
          }
        },
        "d6468f6ca94c4f52845368a711a0f243": {
          "model_module": "@jupyter-widgets/base",
          "model_name": "LayoutModel",
          "model_module_version": "1.2.0",
          "state": {
            "_model_module": "@jupyter-widgets/base",
            "_model_module_version": "1.2.0",
            "_model_name": "LayoutModel",
            "_view_count": null,
            "_view_module": "@jupyter-widgets/base",
            "_view_module_version": "1.2.0",
            "_view_name": "LayoutView",
            "align_content": null,
            "align_items": null,
            "align_self": null,
            "border": null,
            "bottom": null,
            "display": null,
            "flex": null,
            "flex_flow": null,
            "grid_area": null,
            "grid_auto_columns": null,
            "grid_auto_flow": null,
            "grid_auto_rows": null,
            "grid_column": null,
            "grid_gap": null,
            "grid_row": null,
            "grid_template_areas": null,
            "grid_template_columns": null,
            "grid_template_rows": null,
            "height": null,
            "justify_content": null,
            "justify_items": null,
            "left": null,
            "margin": null,
            "max_height": null,
            "max_width": null,
            "min_height": null,
            "min_width": null,
            "object_fit": null,
            "object_position": null,
            "order": null,
            "overflow": null,
            "overflow_x": null,
            "overflow_y": null,
            "padding": null,
            "right": null,
            "top": null,
            "visibility": null,
            "width": null
          }
        },
        "a1f9a86d7faa4efb90b3b68d6bdba018": {
          "model_module": "@jupyter-widgets/controls",
          "model_name": "DescriptionStyleModel",
          "model_module_version": "1.5.0",
          "state": {
            "_model_module": "@jupyter-widgets/controls",
            "_model_module_version": "1.5.0",
            "_model_name": "DescriptionStyleModel",
            "_view_count": null,
            "_view_module": "@jupyter-widgets/base",
            "_view_module_version": "1.2.0",
            "_view_name": "StyleView",
            "description_width": ""
          }
        },
        "49aa03a416e842bd8a47066c5b3b6395": {
          "model_module": "@jupyter-widgets/base",
          "model_name": "LayoutModel",
          "model_module_version": "1.2.0",
          "state": {
            "_model_module": "@jupyter-widgets/base",
            "_model_module_version": "1.2.0",
            "_model_name": "LayoutModel",
            "_view_count": null,
            "_view_module": "@jupyter-widgets/base",
            "_view_module_version": "1.2.0",
            "_view_name": "LayoutView",
            "align_content": null,
            "align_items": null,
            "align_self": null,
            "border": null,
            "bottom": null,
            "display": null,
            "flex": null,
            "flex_flow": null,
            "grid_area": null,
            "grid_auto_columns": null,
            "grid_auto_flow": null,
            "grid_auto_rows": null,
            "grid_column": null,
            "grid_gap": null,
            "grid_row": null,
            "grid_template_areas": null,
            "grid_template_columns": null,
            "grid_template_rows": null,
            "height": null,
            "justify_content": null,
            "justify_items": null,
            "left": null,
            "margin": null,
            "max_height": null,
            "max_width": null,
            "min_height": null,
            "min_width": null,
            "object_fit": null,
            "object_position": null,
            "order": null,
            "overflow": null,
            "overflow_x": null,
            "overflow_y": null,
            "padding": null,
            "right": null,
            "top": null,
            "visibility": null,
            "width": null
          }
        },
        "8d2f020531c345a88cc241fc16017c61": {
          "model_module": "@jupyter-widgets/controls",
          "model_name": "ProgressStyleModel",
          "model_module_version": "1.5.0",
          "state": {
            "_model_module": "@jupyter-widgets/controls",
            "_model_module_version": "1.5.0",
            "_model_name": "ProgressStyleModel",
            "_view_count": null,
            "_view_module": "@jupyter-widgets/base",
            "_view_module_version": "1.2.0",
            "_view_name": "StyleView",
            "bar_color": null,
            "description_width": ""
          }
        },
        "ad1ff0c3a7e945e3987d666154f7081c": {
          "model_module": "@jupyter-widgets/base",
          "model_name": "LayoutModel",
          "model_module_version": "1.2.0",
          "state": {
            "_model_module": "@jupyter-widgets/base",
            "_model_module_version": "1.2.0",
            "_model_name": "LayoutModel",
            "_view_count": null,
            "_view_module": "@jupyter-widgets/base",
            "_view_module_version": "1.2.0",
            "_view_name": "LayoutView",
            "align_content": null,
            "align_items": null,
            "align_self": null,
            "border": null,
            "bottom": null,
            "display": null,
            "flex": null,
            "flex_flow": null,
            "grid_area": null,
            "grid_auto_columns": null,
            "grid_auto_flow": null,
            "grid_auto_rows": null,
            "grid_column": null,
            "grid_gap": null,
            "grid_row": null,
            "grid_template_areas": null,
            "grid_template_columns": null,
            "grid_template_rows": null,
            "height": null,
            "justify_content": null,
            "justify_items": null,
            "left": null,
            "margin": null,
            "max_height": null,
            "max_width": null,
            "min_height": null,
            "min_width": null,
            "object_fit": null,
            "object_position": null,
            "order": null,
            "overflow": null,
            "overflow_x": null,
            "overflow_y": null,
            "padding": null,
            "right": null,
            "top": null,
            "visibility": null,
            "width": null
          }
        },
        "459e34fd75904db5b38c21d8c883fc57": {
          "model_module": "@jupyter-widgets/controls",
          "model_name": "DescriptionStyleModel",
          "model_module_version": "1.5.0",
          "state": {
            "_model_module": "@jupyter-widgets/controls",
            "_model_module_version": "1.5.0",
            "_model_name": "DescriptionStyleModel",
            "_view_count": null,
            "_view_module": "@jupyter-widgets/base",
            "_view_module_version": "1.2.0",
            "_view_name": "StyleView",
            "description_width": ""
          }
        },
        "19779b9a4d5a40bbba827549885577c5": {
          "model_module": "@jupyter-widgets/controls",
          "model_name": "HBoxModel",
          "model_module_version": "1.5.0",
          "state": {
            "_dom_classes": [],
            "_model_module": "@jupyter-widgets/controls",
            "_model_module_version": "1.5.0",
            "_model_name": "HBoxModel",
            "_view_count": null,
            "_view_module": "@jupyter-widgets/controls",
            "_view_module_version": "1.5.0",
            "_view_name": "HBoxView",
            "box_style": "",
            "children": [
              "IPY_MODEL_81d0d90d6279489da044b9c9ced98b5a",
              "IPY_MODEL_08afcb37fe104620acc022d570864b8f",
              "IPY_MODEL_fda34a53172841d29630bdabfcde1c4e"
            ],
            "layout": "IPY_MODEL_048d4bdbc98a4fa38cae4177553d7a60"
          }
        },
        "81d0d90d6279489da044b9c9ced98b5a": {
          "model_module": "@jupyter-widgets/controls",
          "model_name": "HTMLModel",
          "model_module_version": "1.5.0",
          "state": {
            "_dom_classes": [],
            "_model_module": "@jupyter-widgets/controls",
            "_model_module_version": "1.5.0",
            "_model_name": "HTMLModel",
            "_view_count": null,
            "_view_module": "@jupyter-widgets/controls",
            "_view_module_version": "1.5.0",
            "_view_name": "HTMLView",
            "description": "",
            "description_tooltip": null,
            "layout": "IPY_MODEL_f1f12c4e1dd7472384a7585c933da891",
            "placeholder": "​",
            "style": "IPY_MODEL_d47c839554854d56b011d5f071a926d4",
            "value": "model.safetensors: 100%"
          }
        },
        "08afcb37fe104620acc022d570864b8f": {
          "model_module": "@jupyter-widgets/controls",
          "model_name": "FloatProgressModel",
          "model_module_version": "1.5.0",
          "state": {
            "_dom_classes": [],
            "_model_module": "@jupyter-widgets/controls",
            "_model_module_version": "1.5.0",
            "_model_name": "FloatProgressModel",
            "_view_count": null,
            "_view_module": "@jupyter-widgets/controls",
            "_view_module_version": "1.5.0",
            "_view_name": "ProgressView",
            "bar_style": "success",
            "description": "",
            "description_tooltip": null,
            "layout": "IPY_MODEL_6ee5fe83f4d9444cb745d13a65ac9f3b",
            "max": 1425698116,
            "min": 0,
            "orientation": "horizontal",
            "style": "IPY_MODEL_9bcb47548c84447eb7f1b1a4dbd9e2c7",
            "value": 1425698116
          }
        },
        "fda34a53172841d29630bdabfcde1c4e": {
          "model_module": "@jupyter-widgets/controls",
          "model_name": "HTMLModel",
          "model_module_version": "1.5.0",
          "state": {
            "_dom_classes": [],
            "_model_module": "@jupyter-widgets/controls",
            "_model_module_version": "1.5.0",
            "_model_name": "HTMLModel",
            "_view_count": null,
            "_view_module": "@jupyter-widgets/controls",
            "_view_module_version": "1.5.0",
            "_view_name": "HTMLView",
            "description": "",
            "description_tooltip": null,
            "layout": "IPY_MODEL_95166405eb9841a88db3bcd8e0198e7d",
            "placeholder": "​",
            "style": "IPY_MODEL_d5f2356063b9454f8501e825df6305af",
            "value": " 1.43G/1.43G [00:08&lt;00:00, 271MB/s]"
          }
        },
        "048d4bdbc98a4fa38cae4177553d7a60": {
          "model_module": "@jupyter-widgets/base",
          "model_name": "LayoutModel",
          "model_module_version": "1.2.0",
          "state": {
            "_model_module": "@jupyter-widgets/base",
            "_model_module_version": "1.2.0",
            "_model_name": "LayoutModel",
            "_view_count": null,
            "_view_module": "@jupyter-widgets/base",
            "_view_module_version": "1.2.0",
            "_view_name": "LayoutView",
            "align_content": null,
            "align_items": null,
            "align_self": null,
            "border": null,
            "bottom": null,
            "display": null,
            "flex": null,
            "flex_flow": null,
            "grid_area": null,
            "grid_auto_columns": null,
            "grid_auto_flow": null,
            "grid_auto_rows": null,
            "grid_column": null,
            "grid_gap": null,
            "grid_row": null,
            "grid_template_areas": null,
            "grid_template_columns": null,
            "grid_template_rows": null,
            "height": null,
            "justify_content": null,
            "justify_items": null,
            "left": null,
            "margin": null,
            "max_height": null,
            "max_width": null,
            "min_height": null,
            "min_width": null,
            "object_fit": null,
            "object_position": null,
            "order": null,
            "overflow": null,
            "overflow_x": null,
            "overflow_y": null,
            "padding": null,
            "right": null,
            "top": null,
            "visibility": null,
            "width": null
          }
        },
        "f1f12c4e1dd7472384a7585c933da891": {
          "model_module": "@jupyter-widgets/base",
          "model_name": "LayoutModel",
          "model_module_version": "1.2.0",
          "state": {
            "_model_module": "@jupyter-widgets/base",
            "_model_module_version": "1.2.0",
            "_model_name": "LayoutModel",
            "_view_count": null,
            "_view_module": "@jupyter-widgets/base",
            "_view_module_version": "1.2.0",
            "_view_name": "LayoutView",
            "align_content": null,
            "align_items": null,
            "align_self": null,
            "border": null,
            "bottom": null,
            "display": null,
            "flex": null,
            "flex_flow": null,
            "grid_area": null,
            "grid_auto_columns": null,
            "grid_auto_flow": null,
            "grid_auto_rows": null,
            "grid_column": null,
            "grid_gap": null,
            "grid_row": null,
            "grid_template_areas": null,
            "grid_template_columns": null,
            "grid_template_rows": null,
            "height": null,
            "justify_content": null,
            "justify_items": null,
            "left": null,
            "margin": null,
            "max_height": null,
            "max_width": null,
            "min_height": null,
            "min_width": null,
            "object_fit": null,
            "object_position": null,
            "order": null,
            "overflow": null,
            "overflow_x": null,
            "overflow_y": null,
            "padding": null,
            "right": null,
            "top": null,
            "visibility": null,
            "width": null
          }
        },
        "d47c839554854d56b011d5f071a926d4": {
          "model_module": "@jupyter-widgets/controls",
          "model_name": "DescriptionStyleModel",
          "model_module_version": "1.5.0",
          "state": {
            "_model_module": "@jupyter-widgets/controls",
            "_model_module_version": "1.5.0",
            "_model_name": "DescriptionStyleModel",
            "_view_count": null,
            "_view_module": "@jupyter-widgets/base",
            "_view_module_version": "1.2.0",
            "_view_name": "StyleView",
            "description_width": ""
          }
        },
        "6ee5fe83f4d9444cb745d13a65ac9f3b": {
          "model_module": "@jupyter-widgets/base",
          "model_name": "LayoutModel",
          "model_module_version": "1.2.0",
          "state": {
            "_model_module": "@jupyter-widgets/base",
            "_model_module_version": "1.2.0",
            "_model_name": "LayoutModel",
            "_view_count": null,
            "_view_module": "@jupyter-widgets/base",
            "_view_module_version": "1.2.0",
            "_view_name": "LayoutView",
            "align_content": null,
            "align_items": null,
            "align_self": null,
            "border": null,
            "bottom": null,
            "display": null,
            "flex": null,
            "flex_flow": null,
            "grid_area": null,
            "grid_auto_columns": null,
            "grid_auto_flow": null,
            "grid_auto_rows": null,
            "grid_column": null,
            "grid_gap": null,
            "grid_row": null,
            "grid_template_areas": null,
            "grid_template_columns": null,
            "grid_template_rows": null,
            "height": null,
            "justify_content": null,
            "justify_items": null,
            "left": null,
            "margin": null,
            "max_height": null,
            "max_width": null,
            "min_height": null,
            "min_width": null,
            "object_fit": null,
            "object_position": null,
            "order": null,
            "overflow": null,
            "overflow_x": null,
            "overflow_y": null,
            "padding": null,
            "right": null,
            "top": null,
            "visibility": null,
            "width": null
          }
        },
        "9bcb47548c84447eb7f1b1a4dbd9e2c7": {
          "model_module": "@jupyter-widgets/controls",
          "model_name": "ProgressStyleModel",
          "model_module_version": "1.5.0",
          "state": {
            "_model_module": "@jupyter-widgets/controls",
            "_model_module_version": "1.5.0",
            "_model_name": "ProgressStyleModel",
            "_view_count": null,
            "_view_module": "@jupyter-widgets/base",
            "_view_module_version": "1.2.0",
            "_view_name": "StyleView",
            "bar_color": null,
            "description_width": ""
          }
        },
        "95166405eb9841a88db3bcd8e0198e7d": {
          "model_module": "@jupyter-widgets/base",
          "model_name": "LayoutModel",
          "model_module_version": "1.2.0",
          "state": {
            "_model_module": "@jupyter-widgets/base",
            "_model_module_version": "1.2.0",
            "_model_name": "LayoutModel",
            "_view_count": null,
            "_view_module": "@jupyter-widgets/base",
            "_view_module_version": "1.2.0",
            "_view_name": "LayoutView",
            "align_content": null,
            "align_items": null,
            "align_self": null,
            "border": null,
            "bottom": null,
            "display": null,
            "flex": null,
            "flex_flow": null,
            "grid_area": null,
            "grid_auto_columns": null,
            "grid_auto_flow": null,
            "grid_auto_rows": null,
            "grid_column": null,
            "grid_gap": null,
            "grid_row": null,
            "grid_template_areas": null,
            "grid_template_columns": null,
            "grid_template_rows": null,
            "height": null,
            "justify_content": null,
            "justify_items": null,
            "left": null,
            "margin": null,
            "max_height": null,
            "max_width": null,
            "min_height": null,
            "min_width": null,
            "object_fit": null,
            "object_position": null,
            "order": null,
            "overflow": null,
            "overflow_x": null,
            "overflow_y": null,
            "padding": null,
            "right": null,
            "top": null,
            "visibility": null,
            "width": null
          }
        },
        "d5f2356063b9454f8501e825df6305af": {
          "model_module": "@jupyter-widgets/controls",
          "model_name": "DescriptionStyleModel",
          "model_module_version": "1.5.0",
          "state": {
            "_model_module": "@jupyter-widgets/controls",
            "_model_module_version": "1.5.0",
            "_model_name": "DescriptionStyleModel",
            "_view_count": null,
            "_view_module": "@jupyter-widgets/base",
            "_view_module_version": "1.2.0",
            "_view_name": "StyleView",
            "description_width": ""
          }
        },
        "a2fc6baec62c42e2a63367273e8f6520": {
          "model_module": "@jupyter-widgets/controls",
          "model_name": "HBoxModel",
          "model_module_version": "1.5.0",
          "state": {
            "_dom_classes": [],
            "_model_module": "@jupyter-widgets/controls",
            "_model_module_version": "1.5.0",
            "_model_name": "HBoxModel",
            "_view_count": null,
            "_view_module": "@jupyter-widgets/controls",
            "_view_module_version": "1.5.0",
            "_view_name": "HBoxView",
            "box_style": "",
            "children": [
              "IPY_MODEL_9afc6651083c47929308d3590263150f",
              "IPY_MODEL_f2436ce7f1244a22bbb9e2d500ec2088",
              "IPY_MODEL_e06230c30a194d8696d37fcce25a82f5"
            ],
            "layout": "IPY_MODEL_2fceafbb095d4ad38d9bd0212afc297f"
          }
        },
        "9afc6651083c47929308d3590263150f": {
          "model_module": "@jupyter-widgets/controls",
          "model_name": "HTMLModel",
          "model_module_version": "1.5.0",
          "state": {
            "_dom_classes": [],
            "_model_module": "@jupyter-widgets/controls",
            "_model_module_version": "1.5.0",
            "_model_name": "HTMLModel",
            "_view_count": null,
            "_view_module": "@jupyter-widgets/controls",
            "_view_module_version": "1.5.0",
            "_view_name": "HTMLView",
            "description": "",
            "description_tooltip": null,
            "layout": "IPY_MODEL_d73c076424944435b7c4b4a8287972cf",
            "placeholder": "​",
            "style": "IPY_MODEL_dd66539eecee4628a0cce1bec056a2ae",
            "value": "tokenizer_config.json: 100%"
          }
        },
        "f2436ce7f1244a22bbb9e2d500ec2088": {
          "model_module": "@jupyter-widgets/controls",
          "model_name": "FloatProgressModel",
          "model_module_version": "1.5.0",
          "state": {
            "_dom_classes": [],
            "_model_module": "@jupyter-widgets/controls",
            "_model_module_version": "1.5.0",
            "_model_name": "FloatProgressModel",
            "_view_count": null,
            "_view_module": "@jupyter-widgets/controls",
            "_view_module_version": "1.5.0",
            "_view_name": "ProgressView",
            "bar_style": "success",
            "description": "",
            "description_tooltip": null,
            "layout": "IPY_MODEL_2f293f89ca5a4ac3b87ad4159504fa55",
            "max": 25,
            "min": 0,
            "orientation": "horizontal",
            "style": "IPY_MODEL_5d8dfb6881cc48dfaa6e099d2d7a12d5",
            "value": 25
          }
        },
        "e06230c30a194d8696d37fcce25a82f5": {
          "model_module": "@jupyter-widgets/controls",
          "model_name": "HTMLModel",
          "model_module_version": "1.5.0",
          "state": {
            "_dom_classes": [],
            "_model_module": "@jupyter-widgets/controls",
            "_model_module_version": "1.5.0",
            "_model_name": "HTMLModel",
            "_view_count": null,
            "_view_module": "@jupyter-widgets/controls",
            "_view_module_version": "1.5.0",
            "_view_name": "HTMLView",
            "description": "",
            "description_tooltip": null,
            "layout": "IPY_MODEL_9d4030a3cfb04ee0a8b2377ac4880e05",
            "placeholder": "​",
            "style": "IPY_MODEL_a63a568fe1db4e9c94620dda0a53b166",
            "value": " 25.0/25.0 [00:00&lt;00:00, 1.44kB/s]"
          }
        },
        "2fceafbb095d4ad38d9bd0212afc297f": {
          "model_module": "@jupyter-widgets/base",
          "model_name": "LayoutModel",
          "model_module_version": "1.2.0",
          "state": {
            "_model_module": "@jupyter-widgets/base",
            "_model_module_version": "1.2.0",
            "_model_name": "LayoutModel",
            "_view_count": null,
            "_view_module": "@jupyter-widgets/base",
            "_view_module_version": "1.2.0",
            "_view_name": "LayoutView",
            "align_content": null,
            "align_items": null,
            "align_self": null,
            "border": null,
            "bottom": null,
            "display": null,
            "flex": null,
            "flex_flow": null,
            "grid_area": null,
            "grid_auto_columns": null,
            "grid_auto_flow": null,
            "grid_auto_rows": null,
            "grid_column": null,
            "grid_gap": null,
            "grid_row": null,
            "grid_template_areas": null,
            "grid_template_columns": null,
            "grid_template_rows": null,
            "height": null,
            "justify_content": null,
            "justify_items": null,
            "left": null,
            "margin": null,
            "max_height": null,
            "max_width": null,
            "min_height": null,
            "min_width": null,
            "object_fit": null,
            "object_position": null,
            "order": null,
            "overflow": null,
            "overflow_x": null,
            "overflow_y": null,
            "padding": null,
            "right": null,
            "top": null,
            "visibility": null,
            "width": null
          }
        },
        "d73c076424944435b7c4b4a8287972cf": {
          "model_module": "@jupyter-widgets/base",
          "model_name": "LayoutModel",
          "model_module_version": "1.2.0",
          "state": {
            "_model_module": "@jupyter-widgets/base",
            "_model_module_version": "1.2.0",
            "_model_name": "LayoutModel",
            "_view_count": null,
            "_view_module": "@jupyter-widgets/base",
            "_view_module_version": "1.2.0",
            "_view_name": "LayoutView",
            "align_content": null,
            "align_items": null,
            "align_self": null,
            "border": null,
            "bottom": null,
            "display": null,
            "flex": null,
            "flex_flow": null,
            "grid_area": null,
            "grid_auto_columns": null,
            "grid_auto_flow": null,
            "grid_auto_rows": null,
            "grid_column": null,
            "grid_gap": null,
            "grid_row": null,
            "grid_template_areas": null,
            "grid_template_columns": null,
            "grid_template_rows": null,
            "height": null,
            "justify_content": null,
            "justify_items": null,
            "left": null,
            "margin": null,
            "max_height": null,
            "max_width": null,
            "min_height": null,
            "min_width": null,
            "object_fit": null,
            "object_position": null,
            "order": null,
            "overflow": null,
            "overflow_x": null,
            "overflow_y": null,
            "padding": null,
            "right": null,
            "top": null,
            "visibility": null,
            "width": null
          }
        },
        "dd66539eecee4628a0cce1bec056a2ae": {
          "model_module": "@jupyter-widgets/controls",
          "model_name": "DescriptionStyleModel",
          "model_module_version": "1.5.0",
          "state": {
            "_model_module": "@jupyter-widgets/controls",
            "_model_module_version": "1.5.0",
            "_model_name": "DescriptionStyleModel",
            "_view_count": null,
            "_view_module": "@jupyter-widgets/base",
            "_view_module_version": "1.2.0",
            "_view_name": "StyleView",
            "description_width": ""
          }
        },
        "2f293f89ca5a4ac3b87ad4159504fa55": {
          "model_module": "@jupyter-widgets/base",
          "model_name": "LayoutModel",
          "model_module_version": "1.2.0",
          "state": {
            "_model_module": "@jupyter-widgets/base",
            "_model_module_version": "1.2.0",
            "_model_name": "LayoutModel",
            "_view_count": null,
            "_view_module": "@jupyter-widgets/base",
            "_view_module_version": "1.2.0",
            "_view_name": "LayoutView",
            "align_content": null,
            "align_items": null,
            "align_self": null,
            "border": null,
            "bottom": null,
            "display": null,
            "flex": null,
            "flex_flow": null,
            "grid_area": null,
            "grid_auto_columns": null,
            "grid_auto_flow": null,
            "grid_auto_rows": null,
            "grid_column": null,
            "grid_gap": null,
            "grid_row": null,
            "grid_template_areas": null,
            "grid_template_columns": null,
            "grid_template_rows": null,
            "height": null,
            "justify_content": null,
            "justify_items": null,
            "left": null,
            "margin": null,
            "max_height": null,
            "max_width": null,
            "min_height": null,
            "min_width": null,
            "object_fit": null,
            "object_position": null,
            "order": null,
            "overflow": null,
            "overflow_x": null,
            "overflow_y": null,
            "padding": null,
            "right": null,
            "top": null,
            "visibility": null,
            "width": null
          }
        },
        "5d8dfb6881cc48dfaa6e099d2d7a12d5": {
          "model_module": "@jupyter-widgets/controls",
          "model_name": "ProgressStyleModel",
          "model_module_version": "1.5.0",
          "state": {
            "_model_module": "@jupyter-widgets/controls",
            "_model_module_version": "1.5.0",
            "_model_name": "ProgressStyleModel",
            "_view_count": null,
            "_view_module": "@jupyter-widgets/base",
            "_view_module_version": "1.2.0",
            "_view_name": "StyleView",
            "bar_color": null,
            "description_width": ""
          }
        },
        "9d4030a3cfb04ee0a8b2377ac4880e05": {
          "model_module": "@jupyter-widgets/base",
          "model_name": "LayoutModel",
          "model_module_version": "1.2.0",
          "state": {
            "_model_module": "@jupyter-widgets/base",
            "_model_module_version": "1.2.0",
            "_model_name": "LayoutModel",
            "_view_count": null,
            "_view_module": "@jupyter-widgets/base",
            "_view_module_version": "1.2.0",
            "_view_name": "LayoutView",
            "align_content": null,
            "align_items": null,
            "align_self": null,
            "border": null,
            "bottom": null,
            "display": null,
            "flex": null,
            "flex_flow": null,
            "grid_area": null,
            "grid_auto_columns": null,
            "grid_auto_flow": null,
            "grid_auto_rows": null,
            "grid_column": null,
            "grid_gap": null,
            "grid_row": null,
            "grid_template_areas": null,
            "grid_template_columns": null,
            "grid_template_rows": null,
            "height": null,
            "justify_content": null,
            "justify_items": null,
            "left": null,
            "margin": null,
            "max_height": null,
            "max_width": null,
            "min_height": null,
            "min_width": null,
            "object_fit": null,
            "object_position": null,
            "order": null,
            "overflow": null,
            "overflow_x": null,
            "overflow_y": null,
            "padding": null,
            "right": null,
            "top": null,
            "visibility": null,
            "width": null
          }
        },
        "a63a568fe1db4e9c94620dda0a53b166": {
          "model_module": "@jupyter-widgets/controls",
          "model_name": "DescriptionStyleModel",
          "model_module_version": "1.5.0",
          "state": {
            "_model_module": "@jupyter-widgets/controls",
            "_model_module_version": "1.5.0",
            "_model_name": "DescriptionStyleModel",
            "_view_count": null,
            "_view_module": "@jupyter-widgets/base",
            "_view_module_version": "1.2.0",
            "_view_name": "StyleView",
            "description_width": ""
          }
        },
        "aa718f267af5409c9578f1a6d8a861b8": {
          "model_module": "@jupyter-widgets/controls",
          "model_name": "HBoxModel",
          "model_module_version": "1.5.0",
          "state": {
            "_dom_classes": [],
            "_model_module": "@jupyter-widgets/controls",
            "_model_module_version": "1.5.0",
            "_model_name": "HBoxModel",
            "_view_count": null,
            "_view_module": "@jupyter-widgets/controls",
            "_view_module_version": "1.5.0",
            "_view_name": "HBoxView",
            "box_style": "",
            "children": [
              "IPY_MODEL_29294214e56e47038c266791be5a7eed",
              "IPY_MODEL_16a48e133f1b4f8796d83acd68a5d457",
              "IPY_MODEL_7a2c3bdf9eb24b78a3acd45661c945f1"
            ],
            "layout": "IPY_MODEL_021e78a086444c68a7eab01b32296fb2"
          }
        },
        "29294214e56e47038c266791be5a7eed": {
          "model_module": "@jupyter-widgets/controls",
          "model_name": "HTMLModel",
          "model_module_version": "1.5.0",
          "state": {
            "_dom_classes": [],
            "_model_module": "@jupyter-widgets/controls",
            "_model_module_version": "1.5.0",
            "_model_name": "HTMLModel",
            "_view_count": null,
            "_view_module": "@jupyter-widgets/controls",
            "_view_module_version": "1.5.0",
            "_view_name": "HTMLView",
            "description": "",
            "description_tooltip": null,
            "layout": "IPY_MODEL_5b6e58f9e3b64605b705f90612aa6a7f",
            "placeholder": "​",
            "style": "IPY_MODEL_488680f2a4b8451badc9532b14a7da87",
            "value": "vocab.json: 100%"
          }
        },
        "16a48e133f1b4f8796d83acd68a5d457": {
          "model_module": "@jupyter-widgets/controls",
          "model_name": "FloatProgressModel",
          "model_module_version": "1.5.0",
          "state": {
            "_dom_classes": [],
            "_model_module": "@jupyter-widgets/controls",
            "_model_module_version": "1.5.0",
            "_model_name": "FloatProgressModel",
            "_view_count": null,
            "_view_module": "@jupyter-widgets/controls",
            "_view_module_version": "1.5.0",
            "_view_name": "ProgressView",
            "bar_style": "success",
            "description": "",
            "description_tooltip": null,
            "layout": "IPY_MODEL_914d505316da471082c84563c54e6502",
            "max": 898823,
            "min": 0,
            "orientation": "horizontal",
            "style": "IPY_MODEL_e3857e43be71499f8135a30d60985d81",
            "value": 898823
          }
        },
        "7a2c3bdf9eb24b78a3acd45661c945f1": {
          "model_module": "@jupyter-widgets/controls",
          "model_name": "HTMLModel",
          "model_module_version": "1.5.0",
          "state": {
            "_dom_classes": [],
            "_model_module": "@jupyter-widgets/controls",
            "_model_module_version": "1.5.0",
            "_model_name": "HTMLModel",
            "_view_count": null,
            "_view_module": "@jupyter-widgets/controls",
            "_view_module_version": "1.5.0",
            "_view_name": "HTMLView",
            "description": "",
            "description_tooltip": null,
            "layout": "IPY_MODEL_e2e90e615b3f4175a586633936829397",
            "placeholder": "​",
            "style": "IPY_MODEL_327a9587e44a449e864b7bc33619792a",
            "value": " 899k/899k [00:00&lt;00:00, 8.81MB/s]"
          }
        },
        "021e78a086444c68a7eab01b32296fb2": {
          "model_module": "@jupyter-widgets/base",
          "model_name": "LayoutModel",
          "model_module_version": "1.2.0",
          "state": {
            "_model_module": "@jupyter-widgets/base",
            "_model_module_version": "1.2.0",
            "_model_name": "LayoutModel",
            "_view_count": null,
            "_view_module": "@jupyter-widgets/base",
            "_view_module_version": "1.2.0",
            "_view_name": "LayoutView",
            "align_content": null,
            "align_items": null,
            "align_self": null,
            "border": null,
            "bottom": null,
            "display": null,
            "flex": null,
            "flex_flow": null,
            "grid_area": null,
            "grid_auto_columns": null,
            "grid_auto_flow": null,
            "grid_auto_rows": null,
            "grid_column": null,
            "grid_gap": null,
            "grid_row": null,
            "grid_template_areas": null,
            "grid_template_columns": null,
            "grid_template_rows": null,
            "height": null,
            "justify_content": null,
            "justify_items": null,
            "left": null,
            "margin": null,
            "max_height": null,
            "max_width": null,
            "min_height": null,
            "min_width": null,
            "object_fit": null,
            "object_position": null,
            "order": null,
            "overflow": null,
            "overflow_x": null,
            "overflow_y": null,
            "padding": null,
            "right": null,
            "top": null,
            "visibility": null,
            "width": null
          }
        },
        "5b6e58f9e3b64605b705f90612aa6a7f": {
          "model_module": "@jupyter-widgets/base",
          "model_name": "LayoutModel",
          "model_module_version": "1.2.0",
          "state": {
            "_model_module": "@jupyter-widgets/base",
            "_model_module_version": "1.2.0",
            "_model_name": "LayoutModel",
            "_view_count": null,
            "_view_module": "@jupyter-widgets/base",
            "_view_module_version": "1.2.0",
            "_view_name": "LayoutView",
            "align_content": null,
            "align_items": null,
            "align_self": null,
            "border": null,
            "bottom": null,
            "display": null,
            "flex": null,
            "flex_flow": null,
            "grid_area": null,
            "grid_auto_columns": null,
            "grid_auto_flow": null,
            "grid_auto_rows": null,
            "grid_column": null,
            "grid_gap": null,
            "grid_row": null,
            "grid_template_areas": null,
            "grid_template_columns": null,
            "grid_template_rows": null,
            "height": null,
            "justify_content": null,
            "justify_items": null,
            "left": null,
            "margin": null,
            "max_height": null,
            "max_width": null,
            "min_height": null,
            "min_width": null,
            "object_fit": null,
            "object_position": null,
            "order": null,
            "overflow": null,
            "overflow_x": null,
            "overflow_y": null,
            "padding": null,
            "right": null,
            "top": null,
            "visibility": null,
            "width": null
          }
        },
        "488680f2a4b8451badc9532b14a7da87": {
          "model_module": "@jupyter-widgets/controls",
          "model_name": "DescriptionStyleModel",
          "model_module_version": "1.5.0",
          "state": {
            "_model_module": "@jupyter-widgets/controls",
            "_model_module_version": "1.5.0",
            "_model_name": "DescriptionStyleModel",
            "_view_count": null,
            "_view_module": "@jupyter-widgets/base",
            "_view_module_version": "1.2.0",
            "_view_name": "StyleView",
            "description_width": ""
          }
        },
        "914d505316da471082c84563c54e6502": {
          "model_module": "@jupyter-widgets/base",
          "model_name": "LayoutModel",
          "model_module_version": "1.2.0",
          "state": {
            "_model_module": "@jupyter-widgets/base",
            "_model_module_version": "1.2.0",
            "_model_name": "LayoutModel",
            "_view_count": null,
            "_view_module": "@jupyter-widgets/base",
            "_view_module_version": "1.2.0",
            "_view_name": "LayoutView",
            "align_content": null,
            "align_items": null,
            "align_self": null,
            "border": null,
            "bottom": null,
            "display": null,
            "flex": null,
            "flex_flow": null,
            "grid_area": null,
            "grid_auto_columns": null,
            "grid_auto_flow": null,
            "grid_auto_rows": null,
            "grid_column": null,
            "grid_gap": null,
            "grid_row": null,
            "grid_template_areas": null,
            "grid_template_columns": null,
            "grid_template_rows": null,
            "height": null,
            "justify_content": null,
            "justify_items": null,
            "left": null,
            "margin": null,
            "max_height": null,
            "max_width": null,
            "min_height": null,
            "min_width": null,
            "object_fit": null,
            "object_position": null,
            "order": null,
            "overflow": null,
            "overflow_x": null,
            "overflow_y": null,
            "padding": null,
            "right": null,
            "top": null,
            "visibility": null,
            "width": null
          }
        },
        "e3857e43be71499f8135a30d60985d81": {
          "model_module": "@jupyter-widgets/controls",
          "model_name": "ProgressStyleModel",
          "model_module_version": "1.5.0",
          "state": {
            "_model_module": "@jupyter-widgets/controls",
            "_model_module_version": "1.5.0",
            "_model_name": "ProgressStyleModel",
            "_view_count": null,
            "_view_module": "@jupyter-widgets/base",
            "_view_module_version": "1.2.0",
            "_view_name": "StyleView",
            "bar_color": null,
            "description_width": ""
          }
        },
        "e2e90e615b3f4175a586633936829397": {
          "model_module": "@jupyter-widgets/base",
          "model_name": "LayoutModel",
          "model_module_version": "1.2.0",
          "state": {
            "_model_module": "@jupyter-widgets/base",
            "_model_module_version": "1.2.0",
            "_model_name": "LayoutModel",
            "_view_count": null,
            "_view_module": "@jupyter-widgets/base",
            "_view_module_version": "1.2.0",
            "_view_name": "LayoutView",
            "align_content": null,
            "align_items": null,
            "align_self": null,
            "border": null,
            "bottom": null,
            "display": null,
            "flex": null,
            "flex_flow": null,
            "grid_area": null,
            "grid_auto_columns": null,
            "grid_auto_flow": null,
            "grid_auto_rows": null,
            "grid_column": null,
            "grid_gap": null,
            "grid_row": null,
            "grid_template_areas": null,
            "grid_template_columns": null,
            "grid_template_rows": null,
            "height": null,
            "justify_content": null,
            "justify_items": null,
            "left": null,
            "margin": null,
            "max_height": null,
            "max_width": null,
            "min_height": null,
            "min_width": null,
            "object_fit": null,
            "object_position": null,
            "order": null,
            "overflow": null,
            "overflow_x": null,
            "overflow_y": null,
            "padding": null,
            "right": null,
            "top": null,
            "visibility": null,
            "width": null
          }
        },
        "327a9587e44a449e864b7bc33619792a": {
          "model_module": "@jupyter-widgets/controls",
          "model_name": "DescriptionStyleModel",
          "model_module_version": "1.5.0",
          "state": {
            "_model_module": "@jupyter-widgets/controls",
            "_model_module_version": "1.5.0",
            "_model_name": "DescriptionStyleModel",
            "_view_count": null,
            "_view_module": "@jupyter-widgets/base",
            "_view_module_version": "1.2.0",
            "_view_name": "StyleView",
            "description_width": ""
          }
        },
        "5e7ff2baa2a14bfba5e3ba329a0e08d7": {
          "model_module": "@jupyter-widgets/controls",
          "model_name": "HBoxModel",
          "model_module_version": "1.5.0",
          "state": {
            "_dom_classes": [],
            "_model_module": "@jupyter-widgets/controls",
            "_model_module_version": "1.5.0",
            "_model_name": "HBoxModel",
            "_view_count": null,
            "_view_module": "@jupyter-widgets/controls",
            "_view_module_version": "1.5.0",
            "_view_name": "HBoxView",
            "box_style": "",
            "children": [
              "IPY_MODEL_29e98015c5c24926a1ca7781f5a2108e",
              "IPY_MODEL_f937776408d6460da836154007978b2d",
              "IPY_MODEL_d018887335444a638ea14dd891c187f3"
            ],
            "layout": "IPY_MODEL_c57e4e7485814016b6385e9fc610e2a0"
          }
        },
        "29e98015c5c24926a1ca7781f5a2108e": {
          "model_module": "@jupyter-widgets/controls",
          "model_name": "HTMLModel",
          "model_module_version": "1.5.0",
          "state": {
            "_dom_classes": [],
            "_model_module": "@jupyter-widgets/controls",
            "_model_module_version": "1.5.0",
            "_model_name": "HTMLModel",
            "_view_count": null,
            "_view_module": "@jupyter-widgets/controls",
            "_view_module_version": "1.5.0",
            "_view_name": "HTMLView",
            "description": "",
            "description_tooltip": null,
            "layout": "IPY_MODEL_5ee68b677b8b49b1820ef16b95fe1461",
            "placeholder": "​",
            "style": "IPY_MODEL_8545095819eb41f6b10fba14dd6bbc9b",
            "value": "merges.txt: 100%"
          }
        },
        "f937776408d6460da836154007978b2d": {
          "model_module": "@jupyter-widgets/controls",
          "model_name": "FloatProgressModel",
          "model_module_version": "1.5.0",
          "state": {
            "_dom_classes": [],
            "_model_module": "@jupyter-widgets/controls",
            "_model_module_version": "1.5.0",
            "_model_name": "FloatProgressModel",
            "_view_count": null,
            "_view_module": "@jupyter-widgets/controls",
            "_view_module_version": "1.5.0",
            "_view_name": "ProgressView",
            "bar_style": "success",
            "description": "",
            "description_tooltip": null,
            "layout": "IPY_MODEL_08f2669cdf234d35bae3fc67d7bb15d3",
            "max": 456318,
            "min": 0,
            "orientation": "horizontal",
            "style": "IPY_MODEL_4fffcef124ed4c28891214e052d5c65f",
            "value": 456318
          }
        },
        "d018887335444a638ea14dd891c187f3": {
          "model_module": "@jupyter-widgets/controls",
          "model_name": "HTMLModel",
          "model_module_version": "1.5.0",
          "state": {
            "_dom_classes": [],
            "_model_module": "@jupyter-widgets/controls",
            "_model_module_version": "1.5.0",
            "_model_name": "HTMLModel",
            "_view_count": null,
            "_view_module": "@jupyter-widgets/controls",
            "_view_module_version": "1.5.0",
            "_view_name": "HTMLView",
            "description": "",
            "description_tooltip": null,
            "layout": "IPY_MODEL_981ff292c6734582903d1c58cffa99dd",
            "placeholder": "​",
            "style": "IPY_MODEL_5d6348433a8c4f059e0bcb0addd7da91",
            "value": " 456k/456k [00:00&lt;00:00, 5.30MB/s]"
          }
        },
        "c57e4e7485814016b6385e9fc610e2a0": {
          "model_module": "@jupyter-widgets/base",
          "model_name": "LayoutModel",
          "model_module_version": "1.2.0",
          "state": {
            "_model_module": "@jupyter-widgets/base",
            "_model_module_version": "1.2.0",
            "_model_name": "LayoutModel",
            "_view_count": null,
            "_view_module": "@jupyter-widgets/base",
            "_view_module_version": "1.2.0",
            "_view_name": "LayoutView",
            "align_content": null,
            "align_items": null,
            "align_self": null,
            "border": null,
            "bottom": null,
            "display": null,
            "flex": null,
            "flex_flow": null,
            "grid_area": null,
            "grid_auto_columns": null,
            "grid_auto_flow": null,
            "grid_auto_rows": null,
            "grid_column": null,
            "grid_gap": null,
            "grid_row": null,
            "grid_template_areas": null,
            "grid_template_columns": null,
            "grid_template_rows": null,
            "height": null,
            "justify_content": null,
            "justify_items": null,
            "left": null,
            "margin": null,
            "max_height": null,
            "max_width": null,
            "min_height": null,
            "min_width": null,
            "object_fit": null,
            "object_position": null,
            "order": null,
            "overflow": null,
            "overflow_x": null,
            "overflow_y": null,
            "padding": null,
            "right": null,
            "top": null,
            "visibility": null,
            "width": null
          }
        },
        "5ee68b677b8b49b1820ef16b95fe1461": {
          "model_module": "@jupyter-widgets/base",
          "model_name": "LayoutModel",
          "model_module_version": "1.2.0",
          "state": {
            "_model_module": "@jupyter-widgets/base",
            "_model_module_version": "1.2.0",
            "_model_name": "LayoutModel",
            "_view_count": null,
            "_view_module": "@jupyter-widgets/base",
            "_view_module_version": "1.2.0",
            "_view_name": "LayoutView",
            "align_content": null,
            "align_items": null,
            "align_self": null,
            "border": null,
            "bottom": null,
            "display": null,
            "flex": null,
            "flex_flow": null,
            "grid_area": null,
            "grid_auto_columns": null,
            "grid_auto_flow": null,
            "grid_auto_rows": null,
            "grid_column": null,
            "grid_gap": null,
            "grid_row": null,
            "grid_template_areas": null,
            "grid_template_columns": null,
            "grid_template_rows": null,
            "height": null,
            "justify_content": null,
            "justify_items": null,
            "left": null,
            "margin": null,
            "max_height": null,
            "max_width": null,
            "min_height": null,
            "min_width": null,
            "object_fit": null,
            "object_position": null,
            "order": null,
            "overflow": null,
            "overflow_x": null,
            "overflow_y": null,
            "padding": null,
            "right": null,
            "top": null,
            "visibility": null,
            "width": null
          }
        },
        "8545095819eb41f6b10fba14dd6bbc9b": {
          "model_module": "@jupyter-widgets/controls",
          "model_name": "DescriptionStyleModel",
          "model_module_version": "1.5.0",
          "state": {
            "_model_module": "@jupyter-widgets/controls",
            "_model_module_version": "1.5.0",
            "_model_name": "DescriptionStyleModel",
            "_view_count": null,
            "_view_module": "@jupyter-widgets/base",
            "_view_module_version": "1.2.0",
            "_view_name": "StyleView",
            "description_width": ""
          }
        },
        "08f2669cdf234d35bae3fc67d7bb15d3": {
          "model_module": "@jupyter-widgets/base",
          "model_name": "LayoutModel",
          "model_module_version": "1.2.0",
          "state": {
            "_model_module": "@jupyter-widgets/base",
            "_model_module_version": "1.2.0",
            "_model_name": "LayoutModel",
            "_view_count": null,
            "_view_module": "@jupyter-widgets/base",
            "_view_module_version": "1.2.0",
            "_view_name": "LayoutView",
            "align_content": null,
            "align_items": null,
            "align_self": null,
            "border": null,
            "bottom": null,
            "display": null,
            "flex": null,
            "flex_flow": null,
            "grid_area": null,
            "grid_auto_columns": null,
            "grid_auto_flow": null,
            "grid_auto_rows": null,
            "grid_column": null,
            "grid_gap": null,
            "grid_row": null,
            "grid_template_areas": null,
            "grid_template_columns": null,
            "grid_template_rows": null,
            "height": null,
            "justify_content": null,
            "justify_items": null,
            "left": null,
            "margin": null,
            "max_height": null,
            "max_width": null,
            "min_height": null,
            "min_width": null,
            "object_fit": null,
            "object_position": null,
            "order": null,
            "overflow": null,
            "overflow_x": null,
            "overflow_y": null,
            "padding": null,
            "right": null,
            "top": null,
            "visibility": null,
            "width": null
          }
        },
        "4fffcef124ed4c28891214e052d5c65f": {
          "model_module": "@jupyter-widgets/controls",
          "model_name": "ProgressStyleModel",
          "model_module_version": "1.5.0",
          "state": {
            "_model_module": "@jupyter-widgets/controls",
            "_model_module_version": "1.5.0",
            "_model_name": "ProgressStyleModel",
            "_view_count": null,
            "_view_module": "@jupyter-widgets/base",
            "_view_module_version": "1.2.0",
            "_view_name": "StyleView",
            "bar_color": null,
            "description_width": ""
          }
        },
        "981ff292c6734582903d1c58cffa99dd": {
          "model_module": "@jupyter-widgets/base",
          "model_name": "LayoutModel",
          "model_module_version": "1.2.0",
          "state": {
            "_model_module": "@jupyter-widgets/base",
            "_model_module_version": "1.2.0",
            "_model_name": "LayoutModel",
            "_view_count": null,
            "_view_module": "@jupyter-widgets/base",
            "_view_module_version": "1.2.0",
            "_view_name": "LayoutView",
            "align_content": null,
            "align_items": null,
            "align_self": null,
            "border": null,
            "bottom": null,
            "display": null,
            "flex": null,
            "flex_flow": null,
            "grid_area": null,
            "grid_auto_columns": null,
            "grid_auto_flow": null,
            "grid_auto_rows": null,
            "grid_column": null,
            "grid_gap": null,
            "grid_row": null,
            "grid_template_areas": null,
            "grid_template_columns": null,
            "grid_template_rows": null,
            "height": null,
            "justify_content": null,
            "justify_items": null,
            "left": null,
            "margin": null,
            "max_height": null,
            "max_width": null,
            "min_height": null,
            "min_width": null,
            "object_fit": null,
            "object_position": null,
            "order": null,
            "overflow": null,
            "overflow_x": null,
            "overflow_y": null,
            "padding": null,
            "right": null,
            "top": null,
            "visibility": null,
            "width": null
          }
        },
        "5d6348433a8c4f059e0bcb0addd7da91": {
          "model_module": "@jupyter-widgets/controls",
          "model_name": "DescriptionStyleModel",
          "model_module_version": "1.5.0",
          "state": {
            "_model_module": "@jupyter-widgets/controls",
            "_model_module_version": "1.5.0",
            "_model_name": "DescriptionStyleModel",
            "_view_count": null,
            "_view_module": "@jupyter-widgets/base",
            "_view_module_version": "1.2.0",
            "_view_name": "StyleView",
            "description_width": ""
          }
        },
        "90c577e6574d44a0bc2e5dd89244c6c7": {
          "model_module": "@jupyter-widgets/controls",
          "model_name": "HBoxModel",
          "model_module_version": "1.5.0",
          "state": {
            "_dom_classes": [],
            "_model_module": "@jupyter-widgets/controls",
            "_model_module_version": "1.5.0",
            "_model_name": "HBoxModel",
            "_view_count": null,
            "_view_module": "@jupyter-widgets/controls",
            "_view_module_version": "1.5.0",
            "_view_name": "HBoxView",
            "box_style": "",
            "children": [
              "IPY_MODEL_785fbad1a4c64fab8bda807fa6084fd7",
              "IPY_MODEL_3aeb46a3fa1d439a9e9394494677603a",
              "IPY_MODEL_c0d36118ea734ea18cbf4c666e2aaff8"
            ],
            "layout": "IPY_MODEL_e254dcfe092f454aac398df0c62f1675"
          }
        },
        "785fbad1a4c64fab8bda807fa6084fd7": {
          "model_module": "@jupyter-widgets/controls",
          "model_name": "HTMLModel",
          "model_module_version": "1.5.0",
          "state": {
            "_dom_classes": [],
            "_model_module": "@jupyter-widgets/controls",
            "_model_module_version": "1.5.0",
            "_model_name": "HTMLModel",
            "_view_count": null,
            "_view_module": "@jupyter-widgets/controls",
            "_view_module_version": "1.5.0",
            "_view_name": "HTMLView",
            "description": "",
            "description_tooltip": null,
            "layout": "IPY_MODEL_968acc5b6a9d42f68907eb7d0db488c4",
            "placeholder": "​",
            "style": "IPY_MODEL_8e221838f38649ad9f3319c7403d46d4",
            "value": "tokenizer.json: 100%"
          }
        },
        "3aeb46a3fa1d439a9e9394494677603a": {
          "model_module": "@jupyter-widgets/controls",
          "model_name": "FloatProgressModel",
          "model_module_version": "1.5.0",
          "state": {
            "_dom_classes": [],
            "_model_module": "@jupyter-widgets/controls",
            "_model_module_version": "1.5.0",
            "_model_name": "FloatProgressModel",
            "_view_count": null,
            "_view_module": "@jupyter-widgets/controls",
            "_view_module_version": "1.5.0",
            "_view_name": "ProgressView",
            "bar_style": "success",
            "description": "",
            "description_tooltip": null,
            "layout": "IPY_MODEL_12014ce771be40b4ac0d5dda005ffcee",
            "max": 1355863,
            "min": 0,
            "orientation": "horizontal",
            "style": "IPY_MODEL_b896639aae3f46e1b87252b570cddd1a",
            "value": 1355863
          }
        },
        "c0d36118ea734ea18cbf4c666e2aaff8": {
          "model_module": "@jupyter-widgets/controls",
          "model_name": "HTMLModel",
          "model_module_version": "1.5.0",
          "state": {
            "_dom_classes": [],
            "_model_module": "@jupyter-widgets/controls",
            "_model_module_version": "1.5.0",
            "_model_name": "HTMLModel",
            "_view_count": null,
            "_view_module": "@jupyter-widgets/controls",
            "_view_module_version": "1.5.0",
            "_view_name": "HTMLView",
            "description": "",
            "description_tooltip": null,
            "layout": "IPY_MODEL_db502ed1c9e448e0b064a73e0e622f4b",
            "placeholder": "​",
            "style": "IPY_MODEL_921dff5cc94346b6886432018a20fd93",
            "value": " 1.36M/1.36M [00:00&lt;00:00, 15.2MB/s]"
          }
        },
        "e254dcfe092f454aac398df0c62f1675": {
          "model_module": "@jupyter-widgets/base",
          "model_name": "LayoutModel",
          "model_module_version": "1.2.0",
          "state": {
            "_model_module": "@jupyter-widgets/base",
            "_model_module_version": "1.2.0",
            "_model_name": "LayoutModel",
            "_view_count": null,
            "_view_module": "@jupyter-widgets/base",
            "_view_module_version": "1.2.0",
            "_view_name": "LayoutView",
            "align_content": null,
            "align_items": null,
            "align_self": null,
            "border": null,
            "bottom": null,
            "display": null,
            "flex": null,
            "flex_flow": null,
            "grid_area": null,
            "grid_auto_columns": null,
            "grid_auto_flow": null,
            "grid_auto_rows": null,
            "grid_column": null,
            "grid_gap": null,
            "grid_row": null,
            "grid_template_areas": null,
            "grid_template_columns": null,
            "grid_template_rows": null,
            "height": null,
            "justify_content": null,
            "justify_items": null,
            "left": null,
            "margin": null,
            "max_height": null,
            "max_width": null,
            "min_height": null,
            "min_width": null,
            "object_fit": null,
            "object_position": null,
            "order": null,
            "overflow": null,
            "overflow_x": null,
            "overflow_y": null,
            "padding": null,
            "right": null,
            "top": null,
            "visibility": null,
            "width": null
          }
        },
        "968acc5b6a9d42f68907eb7d0db488c4": {
          "model_module": "@jupyter-widgets/base",
          "model_name": "LayoutModel",
          "model_module_version": "1.2.0",
          "state": {
            "_model_module": "@jupyter-widgets/base",
            "_model_module_version": "1.2.0",
            "_model_name": "LayoutModel",
            "_view_count": null,
            "_view_module": "@jupyter-widgets/base",
            "_view_module_version": "1.2.0",
            "_view_name": "LayoutView",
            "align_content": null,
            "align_items": null,
            "align_self": null,
            "border": null,
            "bottom": null,
            "display": null,
            "flex": null,
            "flex_flow": null,
            "grid_area": null,
            "grid_auto_columns": null,
            "grid_auto_flow": null,
            "grid_auto_rows": null,
            "grid_column": null,
            "grid_gap": null,
            "grid_row": null,
            "grid_template_areas": null,
            "grid_template_columns": null,
            "grid_template_rows": null,
            "height": null,
            "justify_content": null,
            "justify_items": null,
            "left": null,
            "margin": null,
            "max_height": null,
            "max_width": null,
            "min_height": null,
            "min_width": null,
            "object_fit": null,
            "object_position": null,
            "order": null,
            "overflow": null,
            "overflow_x": null,
            "overflow_y": null,
            "padding": null,
            "right": null,
            "top": null,
            "visibility": null,
            "width": null
          }
        },
        "8e221838f38649ad9f3319c7403d46d4": {
          "model_module": "@jupyter-widgets/controls",
          "model_name": "DescriptionStyleModel",
          "model_module_version": "1.5.0",
          "state": {
            "_model_module": "@jupyter-widgets/controls",
            "_model_module_version": "1.5.0",
            "_model_name": "DescriptionStyleModel",
            "_view_count": null,
            "_view_module": "@jupyter-widgets/base",
            "_view_module_version": "1.2.0",
            "_view_name": "StyleView",
            "description_width": ""
          }
        },
        "12014ce771be40b4ac0d5dda005ffcee": {
          "model_module": "@jupyter-widgets/base",
          "model_name": "LayoutModel",
          "model_module_version": "1.2.0",
          "state": {
            "_model_module": "@jupyter-widgets/base",
            "_model_module_version": "1.2.0",
            "_model_name": "LayoutModel",
            "_view_count": null,
            "_view_module": "@jupyter-widgets/base",
            "_view_module_version": "1.2.0",
            "_view_name": "LayoutView",
            "align_content": null,
            "align_items": null,
            "align_self": null,
            "border": null,
            "bottom": null,
            "display": null,
            "flex": null,
            "flex_flow": null,
            "grid_area": null,
            "grid_auto_columns": null,
            "grid_auto_flow": null,
            "grid_auto_rows": null,
            "grid_column": null,
            "grid_gap": null,
            "grid_row": null,
            "grid_template_areas": null,
            "grid_template_columns": null,
            "grid_template_rows": null,
            "height": null,
            "justify_content": null,
            "justify_items": null,
            "left": null,
            "margin": null,
            "max_height": null,
            "max_width": null,
            "min_height": null,
            "min_width": null,
            "object_fit": null,
            "object_position": null,
            "order": null,
            "overflow": null,
            "overflow_x": null,
            "overflow_y": null,
            "padding": null,
            "right": null,
            "top": null,
            "visibility": null,
            "width": null
          }
        },
        "b896639aae3f46e1b87252b570cddd1a": {
          "model_module": "@jupyter-widgets/controls",
          "model_name": "ProgressStyleModel",
          "model_module_version": "1.5.0",
          "state": {
            "_model_module": "@jupyter-widgets/controls",
            "_model_module_version": "1.5.0",
            "_model_name": "ProgressStyleModel",
            "_view_count": null,
            "_view_module": "@jupyter-widgets/base",
            "_view_module_version": "1.2.0",
            "_view_name": "StyleView",
            "bar_color": null,
            "description_width": ""
          }
        },
        "db502ed1c9e448e0b064a73e0e622f4b": {
          "model_module": "@jupyter-widgets/base",
          "model_name": "LayoutModel",
          "model_module_version": "1.2.0",
          "state": {
            "_model_module": "@jupyter-widgets/base",
            "_model_module_version": "1.2.0",
            "_model_name": "LayoutModel",
            "_view_count": null,
            "_view_module": "@jupyter-widgets/base",
            "_view_module_version": "1.2.0",
            "_view_name": "LayoutView",
            "align_content": null,
            "align_items": null,
            "align_self": null,
            "border": null,
            "bottom": null,
            "display": null,
            "flex": null,
            "flex_flow": null,
            "grid_area": null,
            "grid_auto_columns": null,
            "grid_auto_flow": null,
            "grid_auto_rows": null,
            "grid_column": null,
            "grid_gap": null,
            "grid_row": null,
            "grid_template_areas": null,
            "grid_template_columns": null,
            "grid_template_rows": null,
            "height": null,
            "justify_content": null,
            "justify_items": null,
            "left": null,
            "margin": null,
            "max_height": null,
            "max_width": null,
            "min_height": null,
            "min_width": null,
            "object_fit": null,
            "object_position": null,
            "order": null,
            "overflow": null,
            "overflow_x": null,
            "overflow_y": null,
            "padding": null,
            "right": null,
            "top": null,
            "visibility": null,
            "width": null
          }
        },
        "921dff5cc94346b6886432018a20fd93": {
          "model_module": "@jupyter-widgets/controls",
          "model_name": "DescriptionStyleModel",
          "model_module_version": "1.5.0",
          "state": {
            "_model_module": "@jupyter-widgets/controls",
            "_model_module_version": "1.5.0",
            "_model_name": "DescriptionStyleModel",
            "_view_count": null,
            "_view_module": "@jupyter-widgets/base",
            "_view_module_version": "1.2.0",
            "_view_name": "StyleView",
            "description_width": ""
          }
        }
      }
    }
  },
  "cells": [
    {
      "cell_type": "markdown",
      "metadata": {
        "id": "view-in-github",
        "colab_type": "text"
      },
      "source": [
        "<a href=\"https://colab.research.google.com/github/JevinKOpenEyes/colab-copies/blob/main/Tagging_and_Summarization.ipynb\" target=\"_parent\"><img src=\"https://colab.research.google.com/assets/colab-badge.svg\" alt=\"Open In Colab\"/></a>"
      ]
    },
    {
      "cell_type": "code",
      "execution_count": 81,
      "metadata": {
        "id": "0OvDLFR7x-SN"
      },
      "outputs": [],
      "source": [
        "!pip install -q auto-gptq transformers tika aspose-words accelerate"
      ]
    },
    {
      "cell_type": "code",
      "source": [
        "import requests\n",
        "from tika import parser\n",
        "from bs4 import BeautifulSoup\n",
        "from io import StringIO"
      ],
      "metadata": {
        "id": "T49gElQAyD5J"
      },
      "execution_count": 82,
      "outputs": []
    },
    {
      "cell_type": "code",
      "source": [
        "# This line gets ssf6.pdf files metadata from the google drive URI\n",
        "request=requests.get(\"https://generate-questions.devbyopeneyes.com/api/getFileData/66acaf7a1571ea56e405e9c2\")\n",
        "resp = request.json()\n",
        "\n",
        "# Getting file metadata\n",
        "file_path = (resp[\"data\"][\"file_path\"])\n",
        "file_name = (resp[\"data\"][\"file_name\"])\n",
        "_id = (resp[\"data\"][\"_id\"])\n",
        "file_type = (resp[\"data\"][\"file_type\"])\n",
        "user_file_name = (resp[\"data\"][\"file_name\"])\n",
        "type_of_question = (resp[\"data\"][\"type_of_question\"])"
      ],
      "metadata": {
        "id": "qxGo9d3dyFuW"
      },
      "execution_count": 83,
      "outputs": []
    },
    {
      "cell_type": "code",
      "source": [
        "if file_type == \"pdf\" or file_type == \"txt\":\n",
        "    Text_pdf = []\n",
        "    # Read PDF file\n",
        "    data = parser.from_file(file_path, xmlContent=True)\n",
        "    xhtml_data = BeautifulSoup(data['content'])\n",
        "    for i, content in enumerate(xhtml_data.find_all('div', attrs={'class': 'page'})):\n",
        "        # Parse PDF data using TIKA (xml/html)\n",
        "        # It's faster and safer to create a new buffer than truncating it\n",
        "        # https://stackoverflow.com/questions/4330812/how-do-i-clear-a-stringio-object\n",
        "        _buffer = StringIO()\n",
        "        _buffer.write(str(content))\n",
        "        parsed_content = parser.from_buffer(_buffer.getvalue())\n",
        "\n",
        "        # Add pages\n",
        "        if parsed_content['content']!=None:\n",
        "            text = parsed_content['content'].strip()\n",
        "            Text_pdf.append(text)"
      ],
      "metadata": {
        "colab": {
          "base_uri": "https://localhost:8080/"
        },
        "id": "I3aAjev_yIaD",
        "outputId": "06deab61-180f-494f-906b-bebebde8d32e"
      },
      "execution_count": 84,
      "outputs": [
        {
          "output_type": "stream",
          "name": "stderr",
          "text": [
            "2024-08-05 08:09:35,211 [MainThread  ] [INFO ]  Retrieving https://drive.google.com/u/0/uc?id=1ozCc6YVeBOy5047AeIJpj1WvbOJuuZDr&export=download to /tmp/u-0-uc.\n",
            "INFO:tika.tika:Retrieving https://drive.google.com/u/0/uc?id=1ozCc6YVeBOy5047AeIJpj1WvbOJuuZDr&export=download to /tmp/u-0-uc.\n"
          ]
        }
      ]
    },
    {
      "cell_type": "code",
      "source": [
        "Text_pdf"
      ],
      "metadata": {
        "colab": {
          "base_uri": "https://localhost:8080/"
        },
        "id": "VO71GMj0a3sS",
        "outputId": "014a2365-3f85-43b1-c054-e9a6ce5a0aa9"
      },
      "execution_count": 85,
      "outputs": [
        {
          "output_type": "execute_result",
          "data": {
            "text/plain": [
              "['HB 207  2024 \\n\\n\\n\\n\\n\\n\\n\\n\\n\\n\\n\\nCODING: Words stricken are deletions; words underlined are additions. \\n\\n\\nhb0207-00 \\n\\n\\nPage 1 of 4 \\n\\n\\nF L O R I D A  H O U S E  O F  R E P R E S E N T A T I V E S \\n\\n\\n\\n\\n\\n\\n\\n\\n\\n\\n\\nA bill to be entitled 1 \\n\\n\\nAn act relating to social media protection for minors; 2 \\n\\n\\ncreating s. 501.174, F.S.; providing a definition; 3 \\n\\n\\nrequiring social media platforms to disclose specified 4 \\n\\n\\npolicies and provide specified resources, measures, 5 \\n\\n\\nand disclaimers; authorizing social media platforms to 6 \\n\\n\\npost specified compliance statements on their Internet 7 \\n\\n\\nhomepage or platform user login page; prohibiting 8 \\n\\n\\ncertain schools from using or having an account on 9 \\n\\n\\ncertain social media platforms and from requiring 10 \\n\\n\\nstudents to register, enroll, or participate in social 11 \\n\\n\\nmedia platforms for educational purposes; providing 12 \\n\\n\\napplicability; providing an effective date. 13 \\n\\n\\n 14 \\n\\n\\nBe It Enacted by the Legislature of the State of Florida: 15 \\n\\n\\n 16 \\n\\n\\n Section 1.  Section 501.174, Florida Statutes, is created 17 \\n\\n\\nto read: 18 \\n\\n\\n 501.174  Social media protection for minors.- 19 \\n\\n\\n (1)  As used in this section, the term \"social media 20 \\n\\n\\nplatform\" or \"platform\" means a digital platform operating in 21 \\n\\n\\nthe state predominantly accessed by platform users who are under 22 \\n\\n\\nthe age of 18 that offers forms of electronic communication 23 \\n\\n\\nthrough which such platform users are permitted to create online 24 \\n\\n\\ncommunities to share information, ideas, personal messages, and 25',\n",
              " 'HB 207  2024 \\n\\n\\n\\n\\n\\n\\n\\n\\n\\n\\n\\nCODING: Words stricken are deletions; words underlined are additions. \\n\\n\\nhb0207-00 \\n\\n\\nPage 2 of 4 \\n\\n\\nF L O R I D A  H O U S E  O F  R E P R E S E N T A T I V E S \\n\\n\\n\\n\\n\\n\\n\\n\\n\\n\\n\\nother content. 26 \\n\\n\\n (2)  Beginning January 1, 2025, a social media platform, on 27 \\n\\n\\nits Internet homepage or platform user login page or through a 28 \\n\\n\\nclearly labeled, conspicuous, and readily accessible link on 29 \\n\\n\\nsuch homepage or login page, must: 30 \\n\\n\\n (a)  Disclose the following social media platform policies 31 \\n\\n\\nin a manner that is clearly, concisely, prominently, and 32 \\n\\n\\nunderstandably written using language suited to the age of users 33 \\n\\n\\nwho are under the age of 18 likely to routinely access the 34 \\n\\n\\nplatform without unrelated, confusing, or contradictory 35 \\n\\n\\nmaterials: 36 \\n\\n\\n 1.  The content moderation policies the social media 37 \\n\\n\\nplatform uses for content on the platform. 38 \\n\\n\\n 2.  Whether the social media platform uses or allows the 39 \\n\\n\\nuse of addictive design or deceptive pattern features, including 40 \\n\\n\\nautoplay or infinite scroll. 41 \\n\\n\\n 3.  Whether the social media platform allows manipulated 42 \\n\\n\\nphotographs or digital images to be shared on the platform. 43 \\n\\n\\n 4.  Whether the social media platform considers the best 44 \\n\\n\\ninterests of platform users who are under the age of 18 when 45 \\n\\n\\ndesigning, developing, and providing services. 46 \\n\\n\\n 5.  The methodology the social media platform uses to 47 \\n\\n\\nconsider the best interests of platform users who are under the 48 \\n\\n\\nage of 18 when designing, developing, and providing services. 49 \\n\\n\\n 6.  The policies and protections the social media platform 50',\n",
              " 'HB 207  2024 \\n\\n\\n\\n\\n\\n\\n\\n\\n\\n\\n\\nCODING: Words stricken are deletions; words underlined are additions. \\n\\n\\nhb0207-00 \\n\\n\\nPage 3 of 4 \\n\\n\\nF L O R I D A  H O U S E  O F  R E P R E S E N T A T I V E S \\n\\n\\n\\n\\n\\n\\n\\n\\n\\n\\n\\nuses to protect platform users who are under the age of 18 51 \\n\\n\\nagainst harmful behaviors, such as bullying, harassment, and 52 \\n\\n\\nthreats of violence or self-harm. 53 \\n\\n\\n 7.  Whether the social media platform collects or sells 54 \\n\\n\\npersonal information of platform users who are under the age of 55 \\n\\n\\n18, including personal identifiers, biometrics, and geolocation 56 \\n\\n\\ndata. If such personal information is collected, the platform 57 \\n\\n\\nmust disclose the type of personal information collected and the 58 \\n\\n\\npurpose of such collection. If such personal information is 59 \\n\\n\\nsold, the platform must disclose to whom the information is 60 \\n\\n\\nsold. 61 \\n\\n\\n (b)  Provide clear access to the following: 62 \\n\\n\\n 1.  Zip code-based references to local resources for law 63 \\n\\n\\nenforcement, suicide prevention, and domestic violence 64 \\n\\n\\nprevention services. 65 \\n\\n\\n 2.  Protective measures such as screen time limitations, 66 \\n\\n\\ndata usage limitations, content filters, and other parental 67 \\n\\n\\nsettings. 68 \\n\\n\\n 3.  Reporting mechanisms related to harmful behaviors, such 69 \\n\\n\\nas bullying, harassment, and threats of violence or self-harm. 70 \\n\\n\\n (3)  At the time of log in, and before obtaining access to 71 \\n\\n\\nthe platform, a social media platform must require platform 72 \\n\\n\\nusers who are under the age of 18 to read and accept a 73 \\n\\n\\ndisclaimer which must be in substantially the following form: 74 \\n\\n\\n 75',\n",
              " 'HB 207  2024 \\n\\n\\n\\n\\n\\n\\n\\n\\n\\n\\n\\nCODING: Words stricken are deletions; words underlined are additions. \\n\\n\\nhb0207-00 \\n\\n\\nPage 4 of 4 \\n\\n\\nF L O R I D A  H O U S E  O F  R E P R E S E N T A T I V E S \\n\\n\\n\\n\\n\\n\\n\\n\\n\\n\\n\\nThis application may be harmful to your mental health 76 \\n\\n\\nand may use design features that have addictive 77 \\n\\n\\nqualities or present unverified information or that 78 \\n\\n\\nmay be manipulated by [insert platform name] or others 79 \\n\\n\\nfor your viewing. This application may also collect 80 \\n\\n\\nyour personal data to further manipulate your viewable 81 \\n\\n\\ncontent and may share your personal data with others. 82 \\n\\n\\n 83 \\n\\n\\n (4)  A social media platform that complies with subsections 84 \\n\\n\\n(2) and (3) may post a statement confirming such compliance on 85 \\n\\n\\nits Internet homepage or platform user login page. 86 \\n\\n\\n (5)  A public K-12 school may not: 87 \\n\\n\\n (a)  Use or have an account on a social media platform that 88 \\n\\n\\ndoes not have a statement pursuant to subsection (4) on its 89 \\n\\n\\nInternet homepage or platform user login page. 90 \\n\\n\\n (b)  Require students, regardless of age, to register, 91 \\n\\n\\nenroll, or participate in a social media platform as a means to 92 \\n\\n\\naccess information, materials, or resources related to school-93 \\n\\n\\nsponsored educational activities. This paragraph does not apply 94 \\n\\n\\nto portal, email, and message board accounts used for official 95 \\n\\n\\nbusiness with the school or to classroom information, materials, 96 \\n\\n\\nor resources viewed in a classroom on one screen controlled by 97 \\n\\n\\ninstructional or administrative personnel of the school. 98 \\n\\n\\n Section 2.  This act shall take effect July 1, 2024. 99']"
            ]
          },
          "metadata": {},
          "execution_count": 85
        }
      ]
    },
    {
      "cell_type": "code",
      "source": [
        "combined_text = \"\\n\".join(Text_pdf)"
      ],
      "metadata": {
        "id": "JFwJTTnZUykp"
      },
      "execution_count": 86,
      "outputs": []
    },
    {
      "cell_type": "code",
      "source": [
        "combined_text"
      ],
      "metadata": {
        "colab": {
          "base_uri": "https://localhost:8080/",
          "height": 156
        },
        "id": "4IomZ1Ap0qQl",
        "outputId": "f8bc779e-9082-4a7d-f7cd-c498c3d4f7c2"
      },
      "execution_count": 87,
      "outputs": [
        {
          "output_type": "execute_result",
          "data": {
            "text/plain": [
              "'HB 207  2024 \\n\\n\\n\\n\\n\\n\\n\\n\\n\\n\\n\\nCODING: Words stricken are deletions; words underlined are additions. \\n\\n\\nhb0207-00 \\n\\n\\nPage 1 of 4 \\n\\n\\nF L O R I D A  H O U S E  O F  R E P R E S E N T A T I V E S \\n\\n\\n\\n\\n\\n\\n\\n\\n\\n\\n\\nA bill to be entitled 1 \\n\\n\\nAn act relating to social media protection for minors; 2 \\n\\n\\ncreating s. 501.174, F.S.; providing a definition; 3 \\n\\n\\nrequiring social media platforms to disclose specified 4 \\n\\n\\npolicies and provide specified resources, measures, 5 \\n\\n\\nand disclaimers; authorizing social media platforms to 6 \\n\\n\\npost specified compliance statements on their Internet 7 \\n\\n\\nhomepage or platform user login page; prohibiting 8 \\n\\n\\ncertain schools from using or having an account on 9 \\n\\n\\ncertain social media platforms and from requiring 10 \\n\\n\\nstudents to register, enroll, or participate in social 11 \\n\\n\\nmedia platforms for educational purposes; providing 12 \\n\\n\\napplicability; providing an effective date. 13 \\n\\n\\n 14 \\n\\n\\nBe It Enacted by the Legislature of the State of Florida: 15 \\n\\n\\n 16 \\n\\n\\n Section 1.  Section 501.174, Florida Statutes, is created 17 \\n\\n\\nto read: 18 \\n\\n\\n 501.174  Social media protection for minors.- 19 \\n\\n\\n (1)  As used in this section, the term \"social media 20 \\n\\n\\nplatform\" or \"platform\" means a digital platform operating in 21 \\n\\n\\nthe state predominantly accessed by platform users who are under 22 \\n\\n\\nthe age of 18 that offers forms of electronic communication 23 \\n\\n\\nthrough which such platform users are permitted to create online 24 \\n\\n\\ncommunities to share information, ideas, personal messages, and 25\\nHB 207  2024 \\n\\n\\n\\n\\n\\n\\n\\n\\n\\n\\n\\nCODING: Words stricken are deletions; words underlined are additions. \\n\\n\\nhb0207-00 \\n\\n\\nPage 2 of 4 \\n\\n\\nF L O R I D A  H O U S E  O F  R E P R E S E N T A T I V E S \\n\\n\\n\\n\\n\\n\\n\\n\\n\\n\\n\\nother content. 26 \\n\\n\\n (2)  Beginning January 1, 2025, a social media platform, on 27 \\n\\n\\nits Internet homepage or platform user login page or through a 28 \\n\\n\\nclearly labeled, conspicuous, and readily accessible link on 29 \\n\\n\\nsuch homepage or login page, must: 30 \\n\\n\\n (a)  Disclose the following social media platform policies 31 \\n\\n\\nin a manner that is clearly, concisely, prominently, and 32 \\n\\n\\nunderstandably written using language suited to the age of users 33 \\n\\n\\nwho are under the age of 18 likely to routinely access the 34 \\n\\n\\nplatform without unrelated, confusing, or contradictory 35 \\n\\n\\nmaterials: 36 \\n\\n\\n 1.  The content moderation policies the social media 37 \\n\\n\\nplatform uses for content on the platform. 38 \\n\\n\\n 2.  Whether the social media platform uses or allows the 39 \\n\\n\\nuse of addictive design or deceptive pattern features, including 40 \\n\\n\\nautoplay or infinite scroll. 41 \\n\\n\\n 3.  Whether the social media platform allows manipulated 42 \\n\\n\\nphotographs or digital images to be shared on the platform. 43 \\n\\n\\n 4.  Whether the social media platform considers the best 44 \\n\\n\\ninterests of platform users who are under the age of 18 when 45 \\n\\n\\ndesigning, developing, and providing services. 46 \\n\\n\\n 5.  The methodology the social media platform uses to 47 \\n\\n\\nconsider the best interests of platform users who are under the 48 \\n\\n\\nage of 18 when designing, developing, and providing services. 49 \\n\\n\\n 6.  The policies and protections the social media platform 50\\nHB 207  2024 \\n\\n\\n\\n\\n\\n\\n\\n\\n\\n\\n\\nCODING: Words stricken are deletions; words underlined are additions. \\n\\n\\nhb0207-00 \\n\\n\\nPage 3 of 4 \\n\\n\\nF L O R I D A  H O U S E  O F  R E P R E S E N T A T I V E S \\n\\n\\n\\n\\n\\n\\n\\n\\n\\n\\n\\nuses to protect platform users who are under the age of 18 51 \\n\\n\\nagainst harmful behaviors, such as bullying, harassment, and 52 \\n\\n\\nthreats of violence or self-harm. 53 \\n\\n\\n 7.  Whether the social media platform collects or sells 54 \\n\\n\\npersonal information of platform users who are under the age of 55 \\n\\n\\n18, including personal identifiers, biometrics, and geolocation 56 \\n\\n\\ndata. If such personal information is collected, the platform 57 \\n\\n\\nmust disclose the type of personal information collected and the 58 \\n\\n\\npurpose of such collection. If such personal information is 59 \\n\\n\\nsold, the platform must disclose to whom the information is 60 \\n\\n\\nsold. 61 \\n\\n\\n (b)  Provide clear access to the following: 62 \\n\\n\\n 1.  Zip code-based references to local resources for law 63 \\n\\n\\nenforcement, suicide prevention, and domestic violence 64 \\n\\n\\nprevention services. 65 \\n\\n\\n 2.  Protective measures such as screen time limitations, 66 \\n\\n\\ndata usage limitations, content filters, and other parental 67 \\n\\n\\nsettings. 68 \\n\\n\\n 3.  Reporting mechanisms related to harmful behaviors, such 69 \\n\\n\\nas bullying, harassment, and threats of violence or self-harm. 70 \\n\\n\\n (3)  At the time of log in, and before obtaining access to 71 \\n\\n\\nthe platform, a social media platform must require platform 72 \\n\\n\\nusers who are under the age of 18 to read and accept a 73 \\n\\n\\ndisclaimer which must be in substantially the following form: 74 \\n\\n\\n 75\\nHB 207  2024 \\n\\n\\n\\n\\n\\n\\n\\n\\n\\n\\n\\nCODING: Words stricken are deletions; words underlined are additions. \\n\\n\\nhb0207-00 \\n\\n\\nPage 4 of 4 \\n\\n\\nF L O R I D A  H O U S E  O F  R E P R E S E N T A T I V E S \\n\\n\\n\\n\\n\\n\\n\\n\\n\\n\\n\\nThis application may be harmful to your mental health 76 \\n\\n\\nand may use design features that have addictive 77 \\n\\n\\nqualities or present unverified information or that 78 \\n\\n\\nmay be manipulated by [insert platform name] or others 79 \\n\\n\\nfor your viewing. This application may also collect 80 \\n\\n\\nyour personal data to further manipulate your viewable 81 \\n\\n\\ncontent and may share your personal data with others. 82 \\n\\n\\n 83 \\n\\n\\n (4)  A social media platform that complies with subsections 84 \\n\\n\\n(2) and (3) may post a statement confirming such compliance on 85 \\n\\n\\nits Internet homepage or platform user login page. 86 \\n\\n\\n (5)  A public K-12 school may not: 87 \\n\\n\\n (a)  Use or have an account on a social media platform that 88 \\n\\n\\ndoes not have a statement pursuant to subsection (4) on its 89 \\n\\n\\nInternet homepage or platform user login page. 90 \\n\\n\\n (b)  Require students, regardless of age, to register, 91 \\n\\n\\nenroll, or participate in a social media platform as a means to 92 \\n\\n\\naccess information, materials, or resources related to school-93 \\n\\n\\nsponsored educational activities. This paragraph does not apply 94 \\n\\n\\nto portal, email, and message board accounts used for official 95 \\n\\n\\nbusiness with the school or to classroom information, materials, 96 \\n\\n\\nor resources viewed in a classroom on one screen controlled by 97 \\n\\n\\ninstructional or administrative personnel of the school. 98 \\n\\n\\n Section 2.  This act shall take effect July 1, 2024. 99'"
            ],
            "application/vnd.google.colaboratory.intrinsic+json": {
              "type": "string"
            }
          },
          "metadata": {},
          "execution_count": 87
        }
      ]
    },
    {
      "cell_type": "code",
      "source": [
        "from transformers import pipeline\n",
        "summarizer = pipeline(\"summarization\", model=\"facebook/bart-large-cnn\")"
      ],
      "metadata": {
        "id": "Iu2TO52NyPaT"
      },
      "execution_count": 88,
      "outputs": []
    },
    {
      "cell_type": "code",
      "source": [
        "facebook_model_summary = summarizer(Text_pdf, max_length=300, min_length=100, do_sample=False)"
      ],
      "metadata": {
        "id": "ObQ72aCayUPH"
      },
      "execution_count": 89,
      "outputs": []
    },
    {
      "cell_type": "code",
      "source": [
        "merged_summary_facebook = \" \".join(item['summary_text'] for item in facebook_model_summary)\n",
        "print(merged_summary_facebook)"
      ],
      "metadata": {
        "colab": {
          "base_uri": "https://localhost:8080/"
        },
        "id": "x4AYgzOPyYzU",
        "outputId": "4e4916fa-bb6c-4ea6-f101-a9806a6b9ede"
      },
      "execution_count": 90,
      "outputs": [
        {
          "output_type": "stream",
          "name": "stdout",
          "text": [
            " HB 207 is a bill to be entitled \"An act relating to social media protection for minors\" It would require social media platforms to disclose specified policies and provide specified resources, measures, and disclaimers. It would also prohibit certain schools from using or having an account on social media sites. The bill was passed by the Florida Legislature and signed into law by Gov. Rick Scott on January 1, 2014. It is expected to become law by the end of this year or early next year. It will be the first of its kind in the United States. Beginning January 1, 2025, a social media platform must disclose the following policies. It must be clearly, concisely, prominently, and clearly written using language suited to the age of users. The platform must consider the best interests of platform users who are under 18 when designing, developing, and providing services. It should be clearly labeled, conspicuous, and readily accessible through a readily accessible link on a homepage or login page. The social mediaplatform must also disclose the content moderation policies it uses for content on the platform. uses to protect platform users who are under the age of 18. Whether the social media platform collects or sells personal information of platform users. Zip code-based references to local resources for law 63, suicide prevention, and domestic violence services. Screen time limitations, content filters, and other parental controls. Reporting mechanisms related to harmful behaviors, such as bullying, harassment, and threats of violence or self-harm. A platform must require platform 72, 73, and 74 users to read and accept a 73, 74, and 75claimer. This application may be harmful to your mental health. A social media platform that complies with subsections 84, 85, and (3) may post a statement confirming such compliance on 85 its Internet homepage or platform user login page. A public K-12 school may not: (a)  Use or have an account on a social media. platform that 88, 89, or 90 does not have a statement pursuant to subsection (4) on its 89, 90, or 91, 91, 92, 93, 94, 95, 96, 97, 98, 99.\n"
          ]
        }
      ]
    },
    {
      "cell_type": "code",
      "source": [
        "merged_summary_facebook"
      ],
      "metadata": {
        "id": "0mL8k81a0Sw3",
        "colab": {
          "base_uri": "https://localhost:8080/",
          "height": 156
        },
        "outputId": "f7326fc5-2231-4591-98a9-d45189e12c1f"
      },
      "execution_count": 91,
      "outputs": [
        {
          "output_type": "execute_result",
          "data": {
            "text/plain": [
              "' HB 207 is a bill to be entitled \"An act relating to social media protection for minors\" It would require social media platforms to disclose specified policies and provide specified resources, measures, and disclaimers. It would also prohibit certain schools from using or having an account on social media sites. The bill was passed by the Florida Legislature and signed into law by Gov. Rick Scott on January 1, 2014. It is expected to become law by the end of this year or early next year. It will be the first of its kind in the United States. Beginning January 1, 2025, a social media platform must disclose the following policies. It must be clearly, concisely, prominently, and clearly written using language suited to the age of users. The platform must consider the best interests of platform users who are under 18 when designing, developing, and providing services. It should be clearly labeled, conspicuous, and readily accessible through a readily accessible link on a homepage or login page. The social mediaplatform must also disclose the content moderation policies it uses for content on the platform. uses to protect platform users who are under the age of 18. Whether the social media platform collects or sells personal information of platform users. Zip code-based references to local resources for law 63, suicide prevention, and domestic violence services. Screen time limitations, content filters, and other parental controls. Reporting mechanisms related to harmful behaviors, such as bullying, harassment, and threats of violence or self-harm. A platform must require platform 72, 73, and 74 users to read and accept a 73, 74, and 75claimer. This application may be harmful to your mental health. A social media platform that complies with subsections 84, 85, and (3) may post a statement confirming such compliance on 85 its Internet homepage or platform user login page. A public K-12 school may not: (a)  Use or have an account on a social media. platform that 88, 89, or 90 does not have a statement pursuant to subsection (4) on its 89, 90, or 91, 91, 92, 93, 94, 95, 96, 97, 98, 99.'"
            ],
            "application/vnd.google.colaboratory.intrinsic+json": {
              "type": "string"
            }
          },
          "metadata": {},
          "execution_count": 91
        }
      ]
    },
    {
      "cell_type": "code",
      "source": [
        "from transformers import pipeline\n",
        "\n",
        "pipe = pipeline(model=\"facebook/bart-large-mnli\")\n"
      ],
      "metadata": {
        "id": "Bi5zBrsAyc1D"
      },
      "execution_count": 92,
      "outputs": []
    },
    {
      "cell_type": "code",
      "source": [
        "classified_tag_facebook = pipe(merged_summary_facebook,\n",
        "    candidate_labels=[\"Budget\", \"Education\", \"Government\", \"Data\", \"State Response\",\"Healthcare\",\"Other\", \"Privacy\", \"Military\",  \"Telecom\", \"Energy\",\"Transportation\",\"Social\", \"Labor\",\"AG\"],\n",
        ")"
      ],
      "metadata": {
        "id": "wmnF-iOFt4qn"
      },
      "execution_count": 93,
      "outputs": []
    },
    {
      "cell_type": "code",
      "source": [
        "classified_tag_facebook"
      ],
      "metadata": {
        "id": "CJBuC2q_y1vN",
        "colab": {
          "base_uri": "https://localhost:8080/"
        },
        "outputId": "79dda79e-513d-4eb4-d284-ff6502cb5cd5"
      },
      "execution_count": 94,
      "outputs": [
        {
          "output_type": "execute_result",
          "data": {
            "text/plain": [
              "{'sequence': ' HB 207 is a bill to be entitled \"An act relating to social media protection for minors\" It would require social media platforms to disclose specified policies and provide specified resources, measures, and disclaimers. It would also prohibit certain schools from using or having an account on social media sites. The bill was passed by the Florida Legislature and signed into law by Gov. Rick Scott on January 1, 2014. It is expected to become law by the end of this year or early next year. It will be the first of its kind in the United States. Beginning January 1, 2025, a social media platform must disclose the following policies. It must be clearly, concisely, prominently, and clearly written using language suited to the age of users. The platform must consider the best interests of platform users who are under 18 when designing, developing, and providing services. It should be clearly labeled, conspicuous, and readily accessible through a readily accessible link on a homepage or login page. The social mediaplatform must also disclose the content moderation policies it uses for content on the platform. uses to protect platform users who are under the age of 18. Whether the social media platform collects or sells personal information of platform users. Zip code-based references to local resources for law 63, suicide prevention, and domestic violence services. Screen time limitations, content filters, and other parental controls. Reporting mechanisms related to harmful behaviors, such as bullying, harassment, and threats of violence or self-harm. A platform must require platform 72, 73, and 74 users to read and accept a 73, 74, and 75claimer. This application may be harmful to your mental health. A social media platform that complies with subsections 84, 85, and (3) may post a statement confirming such compliance on 85 its Internet homepage or platform user login page. A public K-12 school may not: (a)  Use or have an account on a social media. platform that 88, 89, or 90 does not have a statement pursuant to subsection (4) on its 89, 90, or 91, 91, 92, 93, 94, 95, 96, 97, 98, 99.',\n",
              " 'labels': ['Social',\n",
              "  'State Response',\n",
              "  'Other',\n",
              "  'Privacy',\n",
              "  'Government',\n",
              "  'AG',\n",
              "  'Telecom',\n",
              "  'Education',\n",
              "  'Budget',\n",
              "  'Data',\n",
              "  'Energy',\n",
              "  'Labor',\n",
              "  'Healthcare',\n",
              "  'Transportation',\n",
              "  'Military'],\n",
              " 'scores': [0.14186011254787445,\n",
              "  0.11444254219532013,\n",
              "  0.10781670361757278,\n",
              "  0.07282248139381409,\n",
              "  0.0667596235871315,\n",
              "  0.0661916509270668,\n",
              "  0.06243820860981941,\n",
              "  0.051506709307432175,\n",
              "  0.05074484273791313,\n",
              "  0.047325633466243744,\n",
              "  0.04581049084663391,\n",
              "  0.045662540942430496,\n",
              "  0.04385325312614441,\n",
              "  0.042512163519859314,\n",
              "  0.040253039449453354]}"
            ]
          },
          "metadata": {},
          "execution_count": 94
        }
      ]
    },
    {
      "cell_type": "code",
      "source": [],
      "metadata": {
        "id": "aGEw0tHE03Sk"
      },
      "execution_count": 94,
      "outputs": []
    },
    {
      "cell_type": "code",
      "source": [
        "Text_pdf"
      ],
      "metadata": {
        "id": "2ZFOfu-j03VQ",
        "colab": {
          "base_uri": "https://localhost:8080/"
        },
        "outputId": "a78639a3-401e-4e29-ca21-99ab0b404d3d"
      },
      "execution_count": 95,
      "outputs": [
        {
          "output_type": "execute_result",
          "data": {
            "text/plain": [
              "['HB 207  2024 \\n\\n\\n\\n\\n\\n\\n\\n\\n\\n\\n\\nCODING: Words stricken are deletions; words underlined are additions. \\n\\n\\nhb0207-00 \\n\\n\\nPage 1 of 4 \\n\\n\\nF L O R I D A  H O U S E  O F  R E P R E S E N T A T I V E S \\n\\n\\n\\n\\n\\n\\n\\n\\n\\n\\n\\nA bill to be entitled 1 \\n\\n\\nAn act relating to social media protection for minors; 2 \\n\\n\\ncreating s. 501.174, F.S.; providing a definition; 3 \\n\\n\\nrequiring social media platforms to disclose specified 4 \\n\\n\\npolicies and provide specified resources, measures, 5 \\n\\n\\nand disclaimers; authorizing social media platforms to 6 \\n\\n\\npost specified compliance statements on their Internet 7 \\n\\n\\nhomepage or platform user login page; prohibiting 8 \\n\\n\\ncertain schools from using or having an account on 9 \\n\\n\\ncertain social media platforms and from requiring 10 \\n\\n\\nstudents to register, enroll, or participate in social 11 \\n\\n\\nmedia platforms for educational purposes; providing 12 \\n\\n\\napplicability; providing an effective date. 13 \\n\\n\\n 14 \\n\\n\\nBe It Enacted by the Legislature of the State of Florida: 15 \\n\\n\\n 16 \\n\\n\\n Section 1.  Section 501.174, Florida Statutes, is created 17 \\n\\n\\nto read: 18 \\n\\n\\n 501.174  Social media protection for minors.- 19 \\n\\n\\n (1)  As used in this section, the term \"social media 20 \\n\\n\\nplatform\" or \"platform\" means a digital platform operating in 21 \\n\\n\\nthe state predominantly accessed by platform users who are under 22 \\n\\n\\nthe age of 18 that offers forms of electronic communication 23 \\n\\n\\nthrough which such platform users are permitted to create online 24 \\n\\n\\ncommunities to share information, ideas, personal messages, and 25',\n",
              " 'HB 207  2024 \\n\\n\\n\\n\\n\\n\\n\\n\\n\\n\\n\\nCODING: Words stricken are deletions; words underlined are additions. \\n\\n\\nhb0207-00 \\n\\n\\nPage 2 of 4 \\n\\n\\nF L O R I D A  H O U S E  O F  R E P R E S E N T A T I V E S \\n\\n\\n\\n\\n\\n\\n\\n\\n\\n\\n\\nother content. 26 \\n\\n\\n (2)  Beginning January 1, 2025, a social media platform, on 27 \\n\\n\\nits Internet homepage or platform user login page or through a 28 \\n\\n\\nclearly labeled, conspicuous, and readily accessible link on 29 \\n\\n\\nsuch homepage or login page, must: 30 \\n\\n\\n (a)  Disclose the following social media platform policies 31 \\n\\n\\nin a manner that is clearly, concisely, prominently, and 32 \\n\\n\\nunderstandably written using language suited to the age of users 33 \\n\\n\\nwho are under the age of 18 likely to routinely access the 34 \\n\\n\\nplatform without unrelated, confusing, or contradictory 35 \\n\\n\\nmaterials: 36 \\n\\n\\n 1.  The content moderation policies the social media 37 \\n\\n\\nplatform uses for content on the platform. 38 \\n\\n\\n 2.  Whether the social media platform uses or allows the 39 \\n\\n\\nuse of addictive design or deceptive pattern features, including 40 \\n\\n\\nautoplay or infinite scroll. 41 \\n\\n\\n 3.  Whether the social media platform allows manipulated 42 \\n\\n\\nphotographs or digital images to be shared on the platform. 43 \\n\\n\\n 4.  Whether the social media platform considers the best 44 \\n\\n\\ninterests of platform users who are under the age of 18 when 45 \\n\\n\\ndesigning, developing, and providing services. 46 \\n\\n\\n 5.  The methodology the social media platform uses to 47 \\n\\n\\nconsider the best interests of platform users who are under the 48 \\n\\n\\nage of 18 when designing, developing, and providing services. 49 \\n\\n\\n 6.  The policies and protections the social media platform 50',\n",
              " 'HB 207  2024 \\n\\n\\n\\n\\n\\n\\n\\n\\n\\n\\n\\nCODING: Words stricken are deletions; words underlined are additions. \\n\\n\\nhb0207-00 \\n\\n\\nPage 3 of 4 \\n\\n\\nF L O R I D A  H O U S E  O F  R E P R E S E N T A T I V E S \\n\\n\\n\\n\\n\\n\\n\\n\\n\\n\\n\\nuses to protect platform users who are under the age of 18 51 \\n\\n\\nagainst harmful behaviors, such as bullying, harassment, and 52 \\n\\n\\nthreats of violence or self-harm. 53 \\n\\n\\n 7.  Whether the social media platform collects or sells 54 \\n\\n\\npersonal information of platform users who are under the age of 55 \\n\\n\\n18, including personal identifiers, biometrics, and geolocation 56 \\n\\n\\ndata. If such personal information is collected, the platform 57 \\n\\n\\nmust disclose the type of personal information collected and the 58 \\n\\n\\npurpose of such collection. If such personal information is 59 \\n\\n\\nsold, the platform must disclose to whom the information is 60 \\n\\n\\nsold. 61 \\n\\n\\n (b)  Provide clear access to the following: 62 \\n\\n\\n 1.  Zip code-based references to local resources for law 63 \\n\\n\\nenforcement, suicide prevention, and domestic violence 64 \\n\\n\\nprevention services. 65 \\n\\n\\n 2.  Protective measures such as screen time limitations, 66 \\n\\n\\ndata usage limitations, content filters, and other parental 67 \\n\\n\\nsettings. 68 \\n\\n\\n 3.  Reporting mechanisms related to harmful behaviors, such 69 \\n\\n\\nas bullying, harassment, and threats of violence or self-harm. 70 \\n\\n\\n (3)  At the time of log in, and before obtaining access to 71 \\n\\n\\nthe platform, a social media platform must require platform 72 \\n\\n\\nusers who are under the age of 18 to read and accept a 73 \\n\\n\\ndisclaimer which must be in substantially the following form: 74 \\n\\n\\n 75',\n",
              " 'HB 207  2024 \\n\\n\\n\\n\\n\\n\\n\\n\\n\\n\\n\\nCODING: Words stricken are deletions; words underlined are additions. \\n\\n\\nhb0207-00 \\n\\n\\nPage 4 of 4 \\n\\n\\nF L O R I D A  H O U S E  O F  R E P R E S E N T A T I V E S \\n\\n\\n\\n\\n\\n\\n\\n\\n\\n\\n\\nThis application may be harmful to your mental health 76 \\n\\n\\nand may use design features that have addictive 77 \\n\\n\\nqualities or present unverified information or that 78 \\n\\n\\nmay be manipulated by [insert platform name] or others 79 \\n\\n\\nfor your viewing. This application may also collect 80 \\n\\n\\nyour personal data to further manipulate your viewable 81 \\n\\n\\ncontent and may share your personal data with others. 82 \\n\\n\\n 83 \\n\\n\\n (4)  A social media platform that complies with subsections 84 \\n\\n\\n(2) and (3) may post a statement confirming such compliance on 85 \\n\\n\\nits Internet homepage or platform user login page. 86 \\n\\n\\n (5)  A public K-12 school may not: 87 \\n\\n\\n (a)  Use or have an account on a social media platform that 88 \\n\\n\\ndoes not have a statement pursuant to subsection (4) on its 89 \\n\\n\\nInternet homepage or platform user login page. 90 \\n\\n\\n (b)  Require students, regardless of age, to register, 91 \\n\\n\\nenroll, or participate in a social media platform as a means to 92 \\n\\n\\naccess information, materials, or resources related to school-93 \\n\\n\\nsponsored educational activities. This paragraph does not apply 94 \\n\\n\\nto portal, email, and message board accounts used for official 95 \\n\\n\\nbusiness with the school or to classroom information, materials, 96 \\n\\n\\nor resources viewed in a classroom on one screen controlled by 97 \\n\\n\\ninstructional or administrative personnel of the school. 98 \\n\\n\\n Section 2.  This act shall take effect July 1, 2024. 99']"
            ]
          },
          "metadata": {},
          "execution_count": 95
        }
      ]
    },
    {
      "cell_type": "code",
      "source": [
        "from transformers import pipeline\n",
        "pipe = pipeline(\"summarization\", model=\"google/pegasus-xsum\")"
      ],
      "metadata": {
        "id": "eCdhafsCywTM",
        "colab": {
          "base_uri": "https://localhost:8080/"
        },
        "outputId": "173e8ae8-5e00-47b3-9d1e-73370920e0dc"
      },
      "execution_count": 96,
      "outputs": [
        {
          "output_type": "stream",
          "name": "stderr",
          "text": [
            "Some weights of PegasusForConditionalGeneration were not initialized from the model checkpoint at google/pegasus-xsum and are newly initialized: ['model.decoder.embed_positions.weight', 'model.encoder.embed_positions.weight']\n",
            "You should probably TRAIN this model on a down-stream task to be able to use it for predictions and inference.\n"
          ]
        }
      ]
    },
    {
      "cell_type": "code",
      "source": [
        "google_model_summary = pipe(Text_pdf, max_length=300, min_length=100, do_sample=False)"
      ],
      "metadata": {
        "id": "fiPR1sIvy4mM",
        "colab": {
          "base_uri": "https://localhost:8080/"
        },
        "outputId": "ebc2f824-267a-4ddd-e26d-f835e95bac26"
      },
      "execution_count": 97,
      "outputs": [
        {
          "output_type": "stream",
          "name": "stderr",
          "text": [
            "Your max_length is set to 300, but your input_length is only 295. Since this is a summarization task, where outputs shorter than the input are typically wanted, you might consider decreasing max_length manually, e.g. summarizer('...', max_length=147)\n"
          ]
        }
      ]
    },
    {
      "cell_type": "code",
      "source": [
        "merged_summary_google = \" \".join(item['summary_text'] for item in google_model_summary)"
      ],
      "metadata": {
        "id": "cv-DYbH3y7iD"
      },
      "execution_count": 98,
      "outputs": []
    },
    {
      "cell_type": "code",
      "source": [
        "merged_summary_google = \"\"\"HB 207 is a bill to be entitled \"An act relating to social media protection for minors\" It would require social media platforms to disclose specified policies and provide specified resources, measures, and disclaimers. It would also prohibit schools from using or having an account on social media. Beginning January 1, 2025, a social media platform must disclose the following policies. It must be clearly, concisely, prominently, and clearly written using language suited to the age of users. uses to protect platform users who are under the age of 18. Whether the social media platform collects or sells personal information of platform users. Zip code-based references to local resources for law. This application may be harmful to your mental health. A social media platform that complies with subsections 84, 85, and (3) may post a statement confirming such compliance on 85 its Internet homepage or platform user login page. A public K-12 school may not: (a)  Use or have an account on a social mediaplatform that 88, 89, 90 does not have a statement pursuant to subsection \"\"\""
      ],
      "metadata": {
        "id": "GM5l5KIb0xR0"
      },
      "execution_count": 99,
      "outputs": []
    },
    {
      "cell_type": "code",
      "source": [
        "from transformers import pipeline\n",
        "\n",
        "pipe = pipeline(model=\"facebook/bart-large-mnli\")\n",
        "classfied_tag_google = pipe(merged_summary_google,\n",
        "    candidate_labels=[\"Budget\", \"Education\", \"Government\", \"Data\", \"State Response\",\"Healthcare\",\"Other\", \"Privacy\", \"Military\",  \"Telecom\", \"Energy\",\"Transportation\",\"Social\", \"Labor\",\"AG\"],\n",
        ")"
      ],
      "metadata": {
        "id": "jAFL-ggqzA7N"
      },
      "execution_count": 100,
      "outputs": []
    },
    {
      "cell_type": "code",
      "source": [
        "classfied_tag_google"
      ],
      "metadata": {
        "id": "3EyJIOya1OcS",
        "colab": {
          "base_uri": "https://localhost:8080/"
        },
        "outputId": "a513b89d-a746-4570-a9e1-c3e9e40e5810"
      },
      "execution_count": 101,
      "outputs": [
        {
          "output_type": "execute_result",
          "data": {
            "text/plain": [
              "{'sequence': 'HB 207 is a bill to be entitled \"An act relating to social media protection for minors\" It would require social media platforms to disclose specified policies and provide specified resources, measures, and disclaimers. It would also prohibit schools from using or having an account on social media. Beginning January 1, 2025, a social media platform must disclose the following policies. It must be clearly, concisely, prominently, and clearly written using language suited to the age of users. uses to protect platform users who are under the age of 18. Whether the social media platform collects or sells personal information of platform users. Zip code-based references to local resources for law. This application may be harmful to your mental health. A social media platform that complies with subsections 84, 85, and (3) may post a statement confirming such compliance on 85 its Internet homepage or platform user login page. A public K-12 school may not: (a)  Use or have an account on a social mediaplatform that 88, 89, 90 does not have a statement pursuant to subsection ',\n",
              " 'labels': ['Social',\n",
              "  'Other',\n",
              "  'State Response',\n",
              "  'Government',\n",
              "  'Privacy',\n",
              "  'Data',\n",
              "  'Education',\n",
              "  'Healthcare',\n",
              "  'Telecom',\n",
              "  'AG',\n",
              "  'Energy',\n",
              "  'Transportation',\n",
              "  'Military',\n",
              "  'Budget',\n",
              "  'Labor'],\n",
              " 'scores': [0.17784172296524048,\n",
              "  0.1236024796962738,\n",
              "  0.1055479496717453,\n",
              "  0.07179274410009384,\n",
              "  0.06483399868011475,\n",
              "  0.06074357405304909,\n",
              "  0.05739990621805191,\n",
              "  0.05305399000644684,\n",
              "  0.05277319997549057,\n",
              "  0.045575451105833054,\n",
              "  0.04451422393321991,\n",
              "  0.04206826165318489,\n",
              "  0.034081365913152695,\n",
              "  0.033273231238126755,\n",
              "  0.03289783000946045]}"
            ]
          },
          "metadata": {},
          "execution_count": 101
        }
      ]
    },
    {
      "cell_type": "code",
      "source": [
        "from transformers import pipeline\n",
        "classifier = pipeline('zero-shot-classification', model='roberta-large-mnli')\n"
      ],
      "metadata": {
        "id": "S6KX_QHgr-Yq",
        "colab": {
          "base_uri": "https://localhost:8080/",
          "height": 281,
          "referenced_widgets": [
            "c5df62716abe4621acb0f77126209b44",
            "734d2184da2c4237896eb957c6bf07d8",
            "9819d71f9d1b4db2baeaaafaff0baac5",
            "79f9d6bdce9f4a8cb219e341b76b76a9",
            "9ee33a25149f49729f13a02701fdf567",
            "d6468f6ca94c4f52845368a711a0f243",
            "a1f9a86d7faa4efb90b3b68d6bdba018",
            "49aa03a416e842bd8a47066c5b3b6395",
            "8d2f020531c345a88cc241fc16017c61",
            "ad1ff0c3a7e945e3987d666154f7081c",
            "459e34fd75904db5b38c21d8c883fc57",
            "19779b9a4d5a40bbba827549885577c5",
            "81d0d90d6279489da044b9c9ced98b5a",
            "08afcb37fe104620acc022d570864b8f",
            "fda34a53172841d29630bdabfcde1c4e",
            "048d4bdbc98a4fa38cae4177553d7a60",
            "f1f12c4e1dd7472384a7585c933da891",
            "d47c839554854d56b011d5f071a926d4",
            "6ee5fe83f4d9444cb745d13a65ac9f3b",
            "9bcb47548c84447eb7f1b1a4dbd9e2c7",
            "95166405eb9841a88db3bcd8e0198e7d",
            "d5f2356063b9454f8501e825df6305af",
            "a2fc6baec62c42e2a63367273e8f6520",
            "9afc6651083c47929308d3590263150f",
            "f2436ce7f1244a22bbb9e2d500ec2088",
            "e06230c30a194d8696d37fcce25a82f5",
            "2fceafbb095d4ad38d9bd0212afc297f",
            "d73c076424944435b7c4b4a8287972cf",
            "dd66539eecee4628a0cce1bec056a2ae",
            "2f293f89ca5a4ac3b87ad4159504fa55",
            "5d8dfb6881cc48dfaa6e099d2d7a12d5",
            "9d4030a3cfb04ee0a8b2377ac4880e05",
            "a63a568fe1db4e9c94620dda0a53b166",
            "aa718f267af5409c9578f1a6d8a861b8",
            "29294214e56e47038c266791be5a7eed",
            "16a48e133f1b4f8796d83acd68a5d457",
            "7a2c3bdf9eb24b78a3acd45661c945f1",
            "021e78a086444c68a7eab01b32296fb2",
            "5b6e58f9e3b64605b705f90612aa6a7f",
            "488680f2a4b8451badc9532b14a7da87",
            "914d505316da471082c84563c54e6502",
            "e3857e43be71499f8135a30d60985d81",
            "e2e90e615b3f4175a586633936829397",
            "327a9587e44a449e864b7bc33619792a",
            "5e7ff2baa2a14bfba5e3ba329a0e08d7",
            "29e98015c5c24926a1ca7781f5a2108e",
            "f937776408d6460da836154007978b2d",
            "d018887335444a638ea14dd891c187f3",
            "c57e4e7485814016b6385e9fc610e2a0",
            "5ee68b677b8b49b1820ef16b95fe1461",
            "8545095819eb41f6b10fba14dd6bbc9b",
            "08f2669cdf234d35bae3fc67d7bb15d3",
            "4fffcef124ed4c28891214e052d5c65f",
            "981ff292c6734582903d1c58cffa99dd",
            "5d6348433a8c4f059e0bcb0addd7da91",
            "90c577e6574d44a0bc2e5dd89244c6c7",
            "785fbad1a4c64fab8bda807fa6084fd7",
            "3aeb46a3fa1d439a9e9394494677603a",
            "c0d36118ea734ea18cbf4c666e2aaff8",
            "e254dcfe092f454aac398df0c62f1675",
            "968acc5b6a9d42f68907eb7d0db488c4",
            "8e221838f38649ad9f3319c7403d46d4",
            "12014ce771be40b4ac0d5dda005ffcee",
            "b896639aae3f46e1b87252b570cddd1a",
            "db502ed1c9e448e0b064a73e0e622f4b",
            "921dff5cc94346b6886432018a20fd93"
          ]
        },
        "outputId": "5af293f6-f2dc-45d7-b8e8-77379b7a8dbe"
      },
      "execution_count": 102,
      "outputs": [
        {
          "output_type": "display_data",
          "data": {
            "text/plain": [
              "config.json:   0%|          | 0.00/688 [00:00<?, ?B/s]"
            ],
            "application/vnd.jupyter.widget-view+json": {
              "version_major": 2,
              "version_minor": 0,
              "model_id": "c5df62716abe4621acb0f77126209b44"
            }
          },
          "metadata": {}
        },
        {
          "output_type": "display_data",
          "data": {
            "text/plain": [
              "model.safetensors:   0%|          | 0.00/1.43G [00:00<?, ?B/s]"
            ],
            "application/vnd.jupyter.widget-view+json": {
              "version_major": 2,
              "version_minor": 0,
              "model_id": "19779b9a4d5a40bbba827549885577c5"
            }
          },
          "metadata": {}
        },
        {
          "output_type": "stream",
          "name": "stderr",
          "text": [
            "Some weights of the model checkpoint at roberta-large-mnli were not used when initializing RobertaForSequenceClassification: ['roberta.pooler.dense.bias', 'roberta.pooler.dense.weight']\n",
            "- This IS expected if you are initializing RobertaForSequenceClassification from the checkpoint of a model trained on another task or with another architecture (e.g. initializing a BertForSequenceClassification model from a BertForPreTraining model).\n",
            "- This IS NOT expected if you are initializing RobertaForSequenceClassification from the checkpoint of a model that you expect to be exactly identical (initializing a BertForSequenceClassification model from a BertForSequenceClassification model).\n"
          ]
        },
        {
          "output_type": "display_data",
          "data": {
            "text/plain": [
              "tokenizer_config.json:   0%|          | 0.00/25.0 [00:00<?, ?B/s]"
            ],
            "application/vnd.jupyter.widget-view+json": {
              "version_major": 2,
              "version_minor": 0,
              "model_id": "a2fc6baec62c42e2a63367273e8f6520"
            }
          },
          "metadata": {}
        },
        {
          "output_type": "display_data",
          "data": {
            "text/plain": [
              "vocab.json:   0%|          | 0.00/899k [00:00<?, ?B/s]"
            ],
            "application/vnd.jupyter.widget-view+json": {
              "version_major": 2,
              "version_minor": 0,
              "model_id": "aa718f267af5409c9578f1a6d8a861b8"
            }
          },
          "metadata": {}
        },
        {
          "output_type": "display_data",
          "data": {
            "text/plain": [
              "merges.txt:   0%|          | 0.00/456k [00:00<?, ?B/s]"
            ],
            "application/vnd.jupyter.widget-view+json": {
              "version_major": 2,
              "version_minor": 0,
              "model_id": "5e7ff2baa2a14bfba5e3ba329a0e08d7"
            }
          },
          "metadata": {}
        },
        {
          "output_type": "display_data",
          "data": {
            "text/plain": [
              "tokenizer.json:   0%|          | 0.00/1.36M [00:00<?, ?B/s]"
            ],
            "application/vnd.jupyter.widget-view+json": {
              "version_major": 2,
              "version_minor": 0,
              "model_id": "90c577e6574d44a0bc2e5dd89244c6c7"
            }
          },
          "metadata": {}
        }
      ]
    },
    {
      "cell_type": "code",
      "source": [
        "sequence_to_classify = \"Bharti Airtel, the second largest operator, provided salary hikes in the range of 10-12%. Loss-making Vodafone Idea, with over 9,000 employees, also gave hikes of 8-11%. Reliance Jio Infocomm has yet to announce the hikes for this year.\""
      ],
      "metadata": {
        "id": "kzCB09RI0Awc"
      },
      "execution_count": 103,
      "outputs": []
    },
    {
      "cell_type": "code",
      "source": [
        "\n",
        "candidate_labels = [\"Budget\", \"Education\", \"Government\", \"Data\", \"State Response\",\"Healthcare\",\"Other\", \"Privacy\", \"Military\",  \"Telecom\", \"Energy\",\"Transportation\",\"Social\", \"Labor\",\"AG\"]\n",
        "classifier(sequence_to_classify, candidate_labels)\n"
      ],
      "metadata": {
        "id": "uIfzZovez6YV",
        "colab": {
          "base_uri": "https://localhost:8080/"
        },
        "outputId": "417b5297-2a70-41cf-f54c-1633f56cebfe"
      },
      "execution_count": 104,
      "outputs": [
        {
          "output_type": "execute_result",
          "data": {
            "text/plain": [
              "{'sequence': 'Bharti Airtel, the second largest operator, provided salary hikes in the range of 10-12%. Loss-making Vodafone Idea, with over 9,000 employees, also gave hikes of 8-11%. Reliance Jio Infocomm has yet to announce the hikes for this year.',\n",
              " 'labels': ['Telecom',\n",
              "  'Social',\n",
              "  'Other',\n",
              "  'AG',\n",
              "  'Privacy',\n",
              "  'Data',\n",
              "  'Budget',\n",
              "  'Labor',\n",
              "  'State Response',\n",
              "  'Energy',\n",
              "  'Government',\n",
              "  'Military',\n",
              "  'Transportation',\n",
              "  'Healthcare',\n",
              "  'Education'],\n",
              " 'scores': [0.27929526567459106,\n",
              "  0.1034245565533638,\n",
              "  0.1009020283818245,\n",
              "  0.08975376188755035,\n",
              "  0.07511309534311295,\n",
              "  0.0498567558825016,\n",
              "  0.04803336784243584,\n",
              "  0.047973550856113434,\n",
              "  0.03690702095627785,\n",
              "  0.03668290749192238,\n",
              "  0.03582572937011719,\n",
              "  0.03137030825018883,\n",
              "  0.02977333404123783,\n",
              "  0.019053194671869278,\n",
              "  0.016035133972764015]}"
            ]
          },
          "metadata": {},
          "execution_count": 104
        }
      ]
    }
  ]
}